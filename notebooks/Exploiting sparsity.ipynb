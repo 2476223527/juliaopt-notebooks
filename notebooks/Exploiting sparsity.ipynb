{
 "metadata": {
  "language": "Julia",
  "name": "",
  "signature": "sha256:f036a9a5c530aae864113ba5b6a2e8500aed034e5a6b5460aab8f4681befd53f"
 },
 "nbformat": 3,
 "nbformat_minor": 0,
 "worksheets": [
  {
   "cells": [
    {
     "cell_type": "markdown",
     "metadata": {},
     "source": [
      "**Description:** This notebook describes how to make an optimization model more efficient by exploiting sparsity.\n",
      "\n",
      "**Author:** [Shuvomoy Das Gupta](http://scg.utoronto.ca/~shuvomoy.dasgupta/)\n",
      "\n",
      "**License:** <a rel=\"license\" href=\"http://creativecommons.org/licenses/by-sa/4.0/\"><img alt=\"Creative Commons License\" style=\"border-width:0\" src=\"https://i.creativecommons.org/l/by-sa/4.0/88x31.png\" /></a><br />This work is licensed under a <a rel=\"license\" href=\"http://creativecommons.org/licenses/by-sa/4.0/\">Creative Commons Attribution-ShareAlike 4.0 International License</a>.\n",
      "\n",
      "# Using Julia+JuMP for optimization - exploiting sparsity \n",
      "--------------------------\n",
      "<br>\n",
      "\n",
      "## Introduction\n",
      "\n",
      "**What is a sparse data structure?**\n",
      "\n",
      "A sparse data structure is one that has a lot of zeros in it. If a matrix has many more zeros than nonzeros, then it is a sparse matrix. \n",
      "\n",
      "** Why do we need to exploit sparsity?** \n",
      "\n",
      "- Sparsity in the input data increases with the dimension.\n",
      "\n",
      "- Exploiting sparsity \n",
      " * keeps the data size small\n",
      " * saves memory\n",
      " * reduces the running time  \n",
      " * improves the efficiency of the model\n",
      "\n",
      "\n",
      "** How to exploit sparsity in Julia?**\n",
      "\n",
      "- Define `immutable type` and create a `dictionary` or an `array` of it."
     ]
    },
    {
     "cell_type": "markdown",
     "metadata": {},
     "source": [
      "## A test example: Transportation Problem\n",
      "Consider a transportation problem which is going to be our test example:\n",
      "\n",
      "- ** Problem setup:** Some products have to transported from origin cities to destination cities  \n",
      "\n",
      "- **Objective:** \n",
      " * Minimize the total cost of shipment over all **relevant** routes\n",
      " \n",
      "- **Decision Variables** \n",
      " * Find the optimum amount of every product to be shipped from one city to another\n",
      "\n",
      "- **Constraints**\n",
      " * How much of a product a city can supply to other cities is fixed. \n",
      " * The amount of any product demanded by a city is also fixed. \n",
      " * The total amount of products shipped between every pair of different cities can not exceed a given limit. \n",
      "\n",
      "Suppose there are ten cities and three products in our problem. "
     ]
    },
    {
     "cell_type": "code",
     "collapsed": false,
     "input": [
      "cities = \n",
      "[\n",
      ":GARY; :CLEV; :PITT; :FRA;  :DET;  :LAN;  :WIN;  :STL;  :FRE;  :LAF \n",
      "]\n",
      "\n",
      "products   = \n",
      "[\n",
      ":bands; :coils; :plate \n",
      "]"
     ],
     "language": "python",
     "metadata": {},
     "outputs": [
      {
       "metadata": {},
       "output_type": "pyout",
       "prompt_number": 1,
       "text": [
        "3-element Array{Symbol,1}:\n",
        " :bands\n",
        " :coils\n",
        " :plate"
       ]
      }
     ],
     "prompt_number": 1
    },
    {
     "cell_type": "markdown",
     "metadata": {},
     "source": [
      "## Defining `immutable` type\n",
      "If we do not exploit sparsity, then number of ways we can ship the products from one city to other will be $3 \\times (^{10}P_2+10)=300$. \n",
      "\n",
      "Clearly many of them will be redundant, because of reasons like\n",
      "- a product might not be needed by a city\n",
      "- a product might not be produced by a city\n",
      "etc.\n",
      "\n",
      "We just need to consider *relevant route*s, where a product can be shipped from one production city to the other demand city. So a *relevant route* can be defined by 3 features:\n",
      "\n",
      "- a product\n",
      "- a city that produces that product\n",
      "- a city that demands that product\n",
      "\n",
      "So, we define an `immutable` type `Route` as follows:"
     ]
    },
    {
     "cell_type": "code",
     "collapsed": false,
     "input": [
      "immutable Route\n",
      "    p::Symbol # p stands for product\n",
      "    o::Symbol # o stands for origin\n",
      "    d::Symbol # d stands for destination\n",
      "end"
     ],
     "language": "python",
     "metadata": {},
     "outputs": [],
     "prompt_number": 2
    },
    {
     "cell_type": "markdown",
     "metadata": {},
     "source": [
      "Here the datatype `Symbol` is a special type of immutable string. Then we create an array of only relevant routes."
     ]
    },
    {
     "cell_type": "code",
     "collapsed": false,
     "input": [
      "routesExample = \n",
      "[\n",
      "  Route(:bands,:GARY,:FRA);\n",
      "  Route(:bands,:GARY,:DET);\n",
      "  Route(:bands,:GARY,:LAN);\n",
      "  Route(:bands,:GARY,:WIN);\n",
      "] "
     ],
     "language": "python",
     "metadata": {},
     "outputs": [
      {
       "metadata": {},
       "output_type": "pyout",
       "prompt_number": 4,
       "text": [
        "4-element Array{Route,1}:\n",
        " Route(:bands,:GARY,:FRA)\n",
        " Route(:bands,:GARY,:DET)\n",
        " Route(:bands,:GARY,:LAN)\n",
        " Route(:bands,:GARY,:WIN)"
       ]
      }
     ],
     "prompt_number": 4
    },
    {
     "cell_type": "markdown",
     "metadata": {},
     "source": [
      "If we want to access $i$th element of the array by typing in `routes[i]`. When we want to access the product name associated with the $it$h elelment of the array, we can do so by typing `routes[i].p`.\n"
     ]
    },
    {
     "cell_type": "code",
     "collapsed": false,
     "input": [
      "routesExample[2] # Will give the second route "
     ],
     "language": "python",
     "metadata": {},
     "outputs": [
      {
       "metadata": {},
       "output_type": "pyout",
       "prompt_number": 14,
       "text": [
        "Route(:bands,:GARY,:DET)"
       ]
      }
     ],
     "prompt_number": 14
    },
    {
     "cell_type": "code",
     "collapsed": false,
     "input": [
      "routesExample[4].d # Will give the demand city of the 4th route"
     ],
     "language": "python",
     "metadata": {},
     "outputs": [
      {
       "metadata": {},
       "output_type": "pyout",
       "prompt_number": 5,
       "text": [
        ":WIN"
       ]
      }
     ],
     "prompt_number": 5
    },
    {
     "cell_type": "markdown",
     "metadata": {},
     "source": [
      "## Creating new arrays efficiently from existing arrays\n",
      "\n",
      "Often we need to create new arrays, where the elements of them are extracted from some already existing array conditionally. \n",
      "\n",
      "Consider the immutable type `Supply`"
     ]
    },
    {
     "cell_type": "code",
     "collapsed": false,
     "input": [
      "immutable Supply\n",
      "    p::Symbol # p stands for product name\n",
      "    o::Symbol # o stands for the origin city\n",
      "end"
     ],
     "language": "python",
     "metadata": {},
     "outputs": [],
     "prompt_number": 8
    },
    {
     "cell_type": "markdown",
     "metadata": {},
     "source": [
      "We want to create an array `suppliesExample`, that contains all relevant product-city pairs, where the particular product is produced in that city. Clearly we can construct this array by plucking each product and corresponding city producing it from `routesExample`. This is how we do it efficiently: \n",
      "\n",
      "- Create a emty array of type `Supply`\n",
      "- Add elements to this array by \n",
      "\n",
      " * selecting the product and origin from the elements of `routes` \n",
      " * *push*ing them one by one in `supplies`"
     ]
    },
    {
     "cell_type": "code",
     "collapsed": false,
     "input": [
      "suppliesExample = Supply[] # Creates a 0 element array of immutable type Supply\n",
      "for r in routesExample # For every element of the route route\n",
      "    push!(suppliesExample, Supply(r.p, r.o)) # pick the product and origin city and push it in  supplies\n",
      "end"
     ],
     "language": "python",
     "metadata": {},
     "outputs": [],
     "prompt_number": 9
    },
    {
     "cell_type": "code",
     "collapsed": false,
     "input": [
      "suppliesExample"
     ],
     "language": "python",
     "metadata": {},
     "outputs": [
      {
       "metadata": {},
       "output_type": "pyout",
       "prompt_number": 10,
       "text": [
        "4-element Array{Supply,1}:\n",
        " Supply(:bands,:GARY)\n",
        " Supply(:bands,:GARY)\n",
        " Supply(:bands,:GARY)\n",
        " Supply(:bands,:GARY)"
       ]
      }
     ],
     "prompt_number": 10
    },
    {
     "cell_type": "markdown",
     "metadata": {},
     "source": [
      "## Dictionary\n",
      "**What is a dictionary?**\n",
      "A dictionary is a datatype which can be useful in exploiting sparsity.\n",
      "\n",
      "**Why is it needed?**\n",
      " Often we might be interested to index a variable by a composite data type, rather than a number. \n",
      " \n",
      "For example, for the transportation problem in consideration, it would be more convenient to index the decision variables in the routes that are present. Let\n",
      "\n",
      "\\begin{align}\n",
      "R=\\{(p,o,d) \\in P \\times C \\times C: \\text{product } p \\text{ has to be transported from city } o \\text{ to city } d\\}\n",
      "\\end{align}\n",
      "\n",
      "be the set of all the routes that are relevant for the problem. So, we can define our decision variables as below:\n",
      "\n",
      "\\begin{align}\n",
      "\\forall (p,o,d) \\in R \\left(x_{(p,o,d)}= \\text{the amount of a product } p \\text{ that is trasported from city } o \\text{ city d} \\right)\n",
      "\\end{align}\n",
      "\n",
      "From a data structure point of view, $ \\left(x_{(p,o,d)}\\right)_{(p,o,d) \\in R}$ is a dictionary which\n",
      "\n",
      "- takes $(p,o,d) \\in R$ as its **key** and \n",
      "- has the **value** the optimum amount of the product $p$ to be shipped from city $o$ to city $d$."
     ]
    },
    {
     "cell_type": "markdown",
     "metadata": {},
     "source": [
      "### Efficiently Constructing Dictionary of `immutable` types\n",
      "\n",
      "Suppose we want to create a dictionary  called `costRoutes`. Every element of the dictionary `costRoutes` contains the value of shipping cost along a particular route belonging to the array `routesExample`. So, \n",
      "\n",
      "- the **key** to an element belonging to the dictionary is a specific route belonging to the array `routesExample`\n",
      "- the **value** is the cost for that shipment. \n",
      "\n",
      "Suppose the values of the costs are stored in an array named `costCofExample`. "
     ]
    },
    {
     "cell_type": "code",
     "collapsed": false,
     "input": [
      "costCofExample = [100; 200; 300; 50.0]"
     ],
     "language": "python",
     "metadata": {},
     "outputs": [
      {
       "metadata": {},
       "output_type": "pyout",
       "prompt_number": 11,
       "text": [
        "4-element Array{Float64,1}:\n",
        " 100.0\n",
        " 200.0\n",
        " 300.0\n",
        "  50.0"
       ]
      }
     ],
     "prompt_number": 11
    },
    {
     "cell_type": "markdown",
     "metadata": {},
     "source": [
      "We create the dictionary `costRoutes` similar to an array: \n",
      "\n",
      "- we create an empty dictionary, and then\n",
      "- push the elements of the dictionary (the key and the corresponding value) one by one.\n",
      "\n",
      "``\n",
      "costRoutesExample=Dict{Route, Float64}()# Create an empty dictionary where the key is Route and the value is Float64\n",
      "for i in [1:length(routes)]\n",
      "    push!(costRoutesExample, routes[i], costCof[i]) # routes[i] is the key, and costCof[i] is the value\n",
      "end\n",
      "``\n",
      "\n"
     ]
    },
    {
     "cell_type": "code",
     "collapsed": false,
     "input": [
      "costRoutesExample=Dict{Route, Float64}()# Create an empty dictionary \n",
      "# where the key is Route and the value is Float64"
     ],
     "language": "python",
     "metadata": {},
     "outputs": [
      {
       "metadata": {},
       "output_type": "pyout",
       "prompt_number": 12,
       "text": [
        "Dict{Route,Float64} with 0 entries"
       ]
      }
     ],
     "prompt_number": 12
    },
    {
     "cell_type": "code",
     "collapsed": false,
     "input": [
      "for i in [1:length(routesExample)]\n",
      "    push!(costRoutesExample, routesExample[i], costCofExample[i]) \n",
      "    # routesExample[i] is the key, and costCofExample[i] is the value\n",
      "end"
     ],
     "language": "python",
     "metadata": {},
     "outputs": [],
     "prompt_number": 13
    },
    {
     "cell_type": "code",
     "collapsed": false,
     "input": [
      "costRoutesExample"
     ],
     "language": "python",
     "metadata": {},
     "outputs": [
      {
       "metadata": {},
       "output_type": "pyout",
       "prompt_number": 14,
       "text": [
        "Dict{Route,Float64} with 4 entries:\n",
        "  Route(:bands,:GARY,:WIN) => 50.0\n",
        "  Route(:bands,:GARY,:FRA) => 100.0\n",
        "  Route(:bands,:GARY,:LAN) => 300.0\n",
        "  Route(:bands,:GARY,:DET) => 200.0"
       ]
      }
     ],
     "prompt_number": 14
    },
    {
     "cell_type": "markdown",
     "metadata": {},
     "source": [
      "After the dictionary is initialized, we can access the cost associated with some route `routes[i]` by typing in `costRoutes[routes[i]]`"
     ]
    },
    {
     "cell_type": "code",
     "collapsed": false,
     "input": [
      "costRoutesExample[routesExample[4]]"
     ],
     "language": "python",
     "metadata": {},
     "outputs": [
      {
       "metadata": {},
       "output_type": "pyout",
       "prompt_number": 15,
       "text": [
        "50.0"
       ]
      }
     ],
     "prompt_number": 15
    },
    {
     "cell_type": "markdown",
     "metadata": {},
     "source": [
      "Or we can input the description of the route itself:"
     ]
    },
    {
     "cell_type": "code",
     "collapsed": false,
     "input": [
      "routesExample[3]"
     ],
     "language": "python",
     "metadata": {},
     "outputs": [
      {
       "metadata": {},
       "output_type": "pyout",
       "prompt_number": 16,
       "text": [
        "Route(:bands,:GARY,:LAN)"
       ]
      }
     ],
     "prompt_number": 16
    },
    {
     "cell_type": "code",
     "collapsed": false,
     "input": [
      "costRoutesExample[Route(:bands,:GARY,:LAN)]"
     ],
     "language": "python",
     "metadata": {},
     "outputs": [
      {
       "metadata": {},
       "output_type": "pyout",
       "prompt_number": 17,
       "text": [
        "300.0"
       ]
      }
     ],
     "prompt_number": 17
    },
    {
     "cell_type": "markdown",
     "metadata": {},
     "source": [
      "## Mathematical representation of the transportation problem\n",
      "\n",
      "\n",
      "The problem is a classic transportation problem. We will consider the sparse representation of the problem. Let\n",
      "\\begin{align}\n",
      "&C=\\text{Set of all cities} \\\\\n",
      "&P=\\text{Set of all products} \\\\\n",
      "&R=\\{(p,o,d) \\in P \\times C \\times C: \\text{product } p \\text{ has to be transported from city } o \\text{ to city } d\\} \\\\\n",
      "&\\forall (p,o,d) \\in R \\quad \\left(c_{(p,o,d)} = \\text{cost of transporting some product } p \\text{ from city } o \\text{ to city } d \\right)\\\\\n",
      "& \\forall p \\in P \\quad \\left(O_p = \\text{Set of all origin cities where a product } p \\text{ is produced}\\right) \\\\\n",
      "& \\forall p \\in P \\quad \\left(D_p = \\text{Set of all destination cities where a product } p \\text{\n",
      "has to be delivered}\\right) \\\\\n",
      "& \\forall p \\in P \\; \\forall o \\in O_p \\quad \\left(s_{(p,o)} = \\text{the total amount of the product } p \\text{ that can be supplied by city } o\\right) \\\\\n",
      "& \\forall p \\in P \\; \\forall d \\in D_p \\quad \\left(d_{(p,d)} = \\text{the total amount of the product } p \\text{ that is demanded by city } d\\right) \\\\\n",
      "& \\text{Total amount of shipped product between each pair of cities cannot exceed } \\gamma\n",
      "\\end{align}\n",
      "\n",
      "The decision variable for this problem is \n",
      "\\begin{align}\n",
      "\\forall (p,o,d) \\in R \\quad \\left(x_{(p,o,d)}= \\text{the amount of a product } p \\text{ that is trasported from city } o \\text{ city d} \\right)\n",
      "\\end{align}\n",
      "The optimization problem can be described as below:\n",
      "\\begin{align}\n",
      "&\\text{minimize} && \\sum_{(p,o,d) \\in R}{c_{(p,o,d)} x_{(p,o,d)}} \\\\\n",
      "&\\text{subject to} && \\\\\n",
      "&       && \\forall p \\in P \\; \\forall o \\in O_p \\quad \\left(\\sum_{d \\in D_p} x_{(p,o,d)}=s_{(p,o)}\\right) \\\\\n",
      "&       && \\text{ : The amount of any product a city can supply to other cities is fixed} \\\\\n",
      "&       && \\forall p \\in P \\; \\forall d \\in D_p \\quad \\left(\\sum_{o \\in O_p}{x_{(p,o,d)}}=d_{(p,d)}\\right) \\\\\n",
      "&       && \\text{ : The amount of any product demanded by a city is also fixed.} \\\\\n",
      "&       && \\forall o \\in C \\; \\forall d \\in C \\setminus \\{o\\} \\quad \n",
      "            \\left(\\sum_{(p,\\bar{o},\\bar{d}) \\in R \\; : \\; o=\\bar{o} \\wedge d=\\bar{d}}{x_{(p,\\bar{o},\\bar{d})}}\\leq \\gamma\\right) \\\\\n",
      "&       && \\text{ :The total amount of products shipped between every pair of different cities can not exceed a given limit.}\n",
      "            \\end{align}"
     ]
    },
    {
     "cell_type": "markdown",
     "metadata": {},
     "source": [
      "# Mapping of the mathematical symbols to JuMP\n",
      "\n",
      "In the data file, the symbols in the model above are mapped as follows:\n",
      "\n",
      "| Mathematical Symbol                       | In the code      |   Comment   |\n",
      "|----------------------                    :|------------:     |-----------:|\n",
      "| $C$                                       | `cities`         | `cities` is an array of `Symbol`s |\n",
      "| $P$                                       | `products`       | `products` is an array of `Symbol`s |\n",
      "| $R$                                       |  `routes`        | `routes` is an array of immutable type `Route` |\n",
      "| $(O_p)_{p \\in P}$                         |    `orig`        | `orig` is a dictionary    |\n",
      "| $(D_p)_{p \\in P}$                         |     `dest`       | `dest` is a dictionary    |\n",
      "| $((s_{(p,o)})_{o \\in O_p})_{p \\in P}$     |  `suppliedAmount`| `suppliedAmount` is a dictionary |\n",
      "| $((d_{(p,d)})_{d \\in D_p})_{p \\in P}$     | `demandedAmount` | `demandedAmount` is a dictionary with      key                                           `Customer` and value `Float64` |\n",
      "|  $(x_{(p,o,d)})_{(p,o,d) \\in R}$          | `trans`          |  `trans` is a dictionary and the variable in the problem |\n",
      "|  $(c_{(p,o,d)})_{(p,o,d) \\in R}$          | `costRoutes`     | `costRoutes` is a dictionary                |\n",
      "|  $\\gamma$                                 | `capacity`       |       It is of type `Float64`               |\n",
      "\n"
     ]
    },
    {
     "cell_type": "markdown",
     "metadata": {},
     "source": [
      "## Data file"
     ]
    },
    {
     "cell_type": "code",
     "collapsed": false,
     "input": [
      "#\n",
      "cities = \n",
      "[\n",
      ":GARY; :CLEV; :PITT; :FRA;  :DET;  :LAN;  :WIN;  :STL;  :FRE;  :LAF \n",
      "]\n",
      "\n",
      "products   = \n",
      "[\n",
      ":bands; :coils; :plate \n",
      "]\n",
      "\n",
      "capacity    = 625 \n",
      "\n",
      "immutable Route\n",
      "    p::Symbol # p stands for product\n",
      "    o::Symbol # o stands for origin\n",
      "    d::Symbol # d stands for destination\n",
      "end\n",
      "\n",
      "routes = \n",
      "[\n",
      "  Route(:bands,:GARY,:FRA);\n",
      "  Route(:bands,:GARY,:DET);\n",
      "  Route(:bands,:GARY,:LAN);\n",
      "  Route(:bands,:GARY,:WIN);\n",
      "  Route(:bands,:GARY,:STL);\n",
      "  Route(:bands,:GARY,:FRE);\n",
      "  Route(:bands,:GARY,:LAF);\n",
      "  Route(:bands,:CLEV,:FRA);\n",
      "  Route(:bands,:CLEV,:DET);\n",
      "  Route(:bands,:CLEV,:LAN);\n",
      "  Route(:bands,:CLEV,:WIN);\n",
      "  Route(:bands,:CLEV,:STL);\n",
      "  Route(:bands,:CLEV,:FRE);\n",
      "  Route(:bands,:CLEV,:LAF); \n",
      "  Route(:bands,:PITT,:FRA);\n",
      "  Route(:bands,:PITT,:DET);\n",
      "  Route(:bands,:PITT,:LAN);\n",
      "  Route(:bands,:PITT,:WIN);\n",
      "  Route(:bands,:PITT,:STL);\n",
      "  Route(:bands,:PITT,:FRE);\n",
      "  Route(:bands,:PITT,:LAF); \n",
      "\n",
      "  Route(:coils,:GARY,:FRA);\n",
      "  Route(:coils,:GARY,:DET);\n",
      "  Route(:coils,:GARY,:LAN);\n",
      "  Route(:coils,:GARY,:WIN);\n",
      "  Route(:coils,:GARY,:STL);\n",
      "  Route(:coils,:GARY,:FRE);\n",
      "  Route(:coils,:GARY,:LAF); \n",
      "\n",
      "  Route(:coils,:CLEV,:FRA);\n",
      "  Route(:coils,:CLEV,:DET);\n",
      "  Route(:coils,:CLEV,:LAN);\n",
      "  Route(:coils,:CLEV,:WIN);\n",
      "  Route(:coils,:CLEV,:STL);\n",
      "  Route(:coils,:CLEV,:FRE);\n",
      "  Route(:coils,:CLEV,:LAF); \n",
      "\n",
      "  Route(:coils,:PITT,:FRA);\n",
      "  Route(:coils,:PITT,:DET);\n",
      "  Route(:coils,:PITT,:LAN);\n",
      "  Route(:coils,:PITT,:WIN);\n",
      "  Route(:coils,:PITT,:STL);\n",
      "  Route(:coils,:PITT,:FRE);\n",
      "  Route(:coils,:PITT,:LAF); \n",
      "\n",
      "  Route(:plate,:GARY,:FRA);\n",
      "  Route(:plate,:GARY,:DET);\n",
      "  Route(:plate,:GARY,:LAN);\n",
      "  Route(:plate,:GARY,:WIN);\n",
      "  Route(:plate,:GARY,:STL);\n",
      "  Route(:plate,:GARY,:FRE);\n",
      "  Route(:plate,:GARY,:LAF); \n",
      "\n",
      "  Route(:plate,:CLEV,:FRA);\n",
      "  Route(:plate,:CLEV,:DET);\n",
      "  Route(:plate,:CLEV,:LAN);\n",
      "  Route(:plate,:CLEV,:WIN);\n",
      "  Route(:plate,:CLEV,:STL);\n",
      "  Route(:plate,:CLEV,:FRE);\n",
      "  Route(:plate,:CLEV,:LAF); \n",
      "\n",
      "  Route(:plate,:PITT,:FRA);\n",
      "  Route(:plate,:PITT,:DET);\n",
      "  Route(:plate,:PITT,:LAN);\n",
      "  Route(:plate,:PITT,:WIN);\n",
      "  Route(:plate,:PITT,:STL);\n",
      "  Route(:plate,:PITT,:FRE);\n",
      "  Route(:plate,:PITT,:LAF); \n",
      "]\n",
      "\n",
      "immutable Supply\n",
      "    p::Symbol\n",
      "    o::Symbol\n",
      "end\n",
      "\n",
      "#Creating the array supplies\n",
      "#                   --------\n",
      "supplies = Supply[] # Creates a 0 element array of immutable type Supply\n",
      "for r in routes\n",
      "    push!(supplies, Supply(r.p, r.o))\n",
      "end\n",
      "\n",
      "# Creating suppliedAmount dictionary\n",
      "#          --------------\n",
      "#It might be better to create this as a dictionary, where the key is the \n",
      "# element of the array supplies and the value is the corresponding supplied\n",
      "#amount\n",
      "suppliedAmount = Dict{Supply, Float64}()\n",
      "for s in supplies\n",
      "    if s.p == :bands && s.o == :CLEV\n",
      "        push!(suppliedAmount, s, 700)\n",
      "        elseif s.p == :bands && s.o==:GARY\n",
      "        push!(suppliedAmount, s, 400)\n",
      "        elseif s.p == :bands && s.o==:PITT\n",
      "        push!(suppliedAmount, s, 800)\n",
      "        elseif s.p == :coils && s.o==:GARY\n",
      "        push!(suppliedAmount, s, 800)\n",
      "        elseif s.p == :coils && s.o==:CLEV\n",
      "        push!(suppliedAmount, s, 1600)\n",
      "        elseif s.p == :coils && s.o == :PITT\n",
      "        push!(suppliedAmount, s, 1800)\n",
      "        elseif s.p == :plate && s.o == :GARY\n",
      "        push!(suppliedAmount, s, 200)\n",
      "        elseif s.p == :plate && s.o == :CLEV\n",
      "        push!(suppliedAmount, s, 300)\n",
      "        elseif s.p == :plate && s.o == :PITT\n",
      "        push!(suppliedAmount, s, 300)\n",
      "    else\n",
      "        push!(suppliedAmount, -1)  \n",
      "end #if\n",
      "end #for\n",
      "\n",
      "immutable Customer\n",
      "    p::Symbol\n",
      "    d::Symbol\n",
      "end\n",
      "\n",
      "# Creating customers array, which is an array of custom immutable Customer \n",
      "#          ---------\n",
      "customers = Customer[]\n",
      "for r in routes\n",
      "    push!(customers, Customer(r.p, r.d))\n",
      "end\n",
      "\n",
      "# Let's create the demandedAmount dictionary now\n",
      "#                  --------------\n",
      "demandedAmount = Dict{Customer, Float64}()\n",
      "for c in customers\n",
      "#1\n",
      "    if c.p==:bands && c.d==:FRA\n",
      "        push!(demandedAmount, c, 300) \n",
      "#2\n",
      "        elseif c.p==:coils && c.d==:FRA\n",
      "        push!(demandedAmount, c, 500) \n",
      "#3\n",
      "        elseif c.p==:plate && c.d==:FRA\n",
      "        push!(demandedAmount, c, 100) \n",
      "#4\n",
      "        elseif c.p==:bands && c.d==:DET\n",
      "        push!(demandedAmount, c, 300) \n",
      "#5\n",
      "        elseif c.p==:coils && c.d==:DET\n",
      "        push!(demandedAmount, c, 750) \n",
      "#6\n",
      "        elseif c.p==:plate && c.d==:DET \n",
      "        push!(demandedAmount, c, 100) \n",
      "#7\n",
      "        elseif c.p==:bands && c.d==:LAN\n",
      "        push!(demandedAmount, c, 100) \n",
      "#8\n",
      "        elseif c.p==:coils && c.d==:LAN\n",
      "        push!(demandedAmount, c, 400) \n",
      "#9\n",
      "        elseif c.p==:plate && c.d==:LAN\n",
      "        push!(demandedAmount, c, 0) \n",
      "#10\n",
      "        elseif c.p==:bands && c.d==:WIN\n",
      "        push!(demandedAmount, c, 75)  \n",
      "#11\n",
      "    elseif c.p==:coils && c.d==:WIN\n",
      "        push!(demandedAmount, c,  250) \n",
      "#12\n",
      "    elseif c.p==:plate && c.d==:WIN\n",
      "        push!(demandedAmount, c, 50)\n",
      "#13\n",
      "    elseif c.p==:bands && c.d==:STL\n",
      "        push!(demandedAmount, c, 650)\n",
      "#14\n",
      "    elseif c.p==:coils && c.d==:STL\n",
      "        push!(demandedAmount, c, 950)\n",
      "#15\n",
      "    elseif c.p==:plate && c.d==:STL\n",
      "        push!(demandedAmount, c, 200) \n",
      "#16\n",
      "    elseif c.p==:bands && c.d==:FRE\n",
      "        push!(demandedAmount, c, 225)\n",
      "#17\n",
      "    elseif c.p==:coils && c.d==:FRE\n",
      "        push!(demandedAmount, c, 850)\n",
      "#18\n",
      "    elseif c.p==:plate && c.d==:FRE\n",
      "        push!(demandedAmount, c, 100)\n",
      "#19\n",
      "    elseif c.p==:bands && c.d==:LAF\n",
      "        push!(demandedAmount, c, 250)\n",
      "#20\n",
      "    elseif c.p==:coils && c.d==:LAF\n",
      "        push!(demandedAmount, c, 500)\n",
      "#21   \n",
      "    elseif c.p==:plate && c.d==:LAF\n",
      "        push!(demandedAmount, c, 250)\n",
      "    else\n",
      "        push!(demandedAmount, -1)\n",
      "        println(\"Something is wrong index\", i, \"with customers\", c)\n",
      "    end\n",
      "end\n",
      "\n",
      "costCof = [30,10, 8,10,11,71, 6,22, 7,10, 7,21,82,13,19,11,12,10,25,83,15,\n",
      "   39,14,11,14,16,82, 8,27, 9,12, 9, 26,95, 17, 24,14,17,13, 28,99, 20,\n",
      "   41,15,12,16,17,86, 8,29, 9,13, 9,28,99,18,26,14,17,13,31,104,20]\n",
      "\n",
      "# Creating costRoutes dictionary which contains\n",
      "#          ----------\n",
      "costRoutes=Dict{Route, Float64}()\n",
      "for i in [1:length(routes)]\n",
      "    push!(costRoutes, routes[i], costCof[i])\n",
      "end\n",
      "\n",
      "# Creating orig, which takes the product as the input and gives the set of origins of that product\n",
      "#          ----\n",
      "orig = Dict{Symbol, Array}()\n",
      "for i in [1:length(products)]\n",
      "    dummy_array = Symbol[]\n",
      "  for j in [1:length(routes)]\n",
      "        #println(i, j, products[i] == routes[j].p)\n",
      "        if products[i] == routes[j].p\n",
      "            push!(dummy_array, routes[j].o)\n",
      "            #println(orig[products[i]])\n",
      "        else \n",
      "        #println(\"Oops, something is not right\")\n",
      "            end #if\n",
      "        end #for \n",
      "    push!(orig,products[i],unique(dummy_array))\n",
      "    end #for\n",
      "\n",
      "# Creating dest, which takes the product as the input and gives the set of destinations of that product\n",
      "#          ----\n",
      "dest = Dict{Symbol, Array}()\n",
      "for i in [1:length(products)]\n",
      "    dummy_array = Symbol[]\n",
      "  for j in [1:length(routes)]\n",
      "        #println(i, j, products[i] == routes[j].p)\n",
      "        if products[i] == routes[j].p\n",
      "            push!(dummy_array, routes[j].d)\n",
      "            #println(orig[products[i]])\n",
      "        else \n",
      "        #println(\"Oops, something is not right\")\n",
      "            end #if\n",
      "        end #for \n",
      "    push!(dest,products[i],unique(dummy_array))\n",
      "end #for\n",
      "\n"
     ],
     "language": "python",
     "metadata": {},
     "outputs": [],
     "prompt_number": 2
    },
    {
     "cell_type": "markdown",
     "metadata": {},
     "source": [
      "## Model File"
     ]
    },
    {
     "cell_type": "code",
     "collapsed": false,
     "input": [
      "using JuMP  # Need to say it whenever we use JuMP\n",
      "#using CPLEX # Telling Julia what solver we are using \n",
      "using GLPKMathProgInterface\n",
      "\n",
      "#MODEL CONSTRUCTION\n",
      "#------------------\n",
      "# transpModel = Model(solver=CplexSolver()) # Name of the model object\n",
      "transpModel = Model(solver=GLPKSolverLP())\n",
      "\n",
      "#VARIABLES\n",
      "#---------\n",
      "@defVar(transpModel, trans[routes] >= 0) \n",
      "\n",
      "#OBJECTIVE\n",
      "#---------\n",
      "\n",
      "@setObjective(transpModel, Min, sum{costRoutes[l]*trans[l], l in routes})\n",
      "\n",
      "#Constraints\n",
      "#-----------\n",
      "\n",
      "\n",
      "# First Constraint\n",
      "# ----------------\n",
      "\n",
      "for pr in products\n",
      "    for org in orig[pr]\n",
      "        @addConstraint(transpModel, sum{trans[Route(pr, org, de)], de in dest[pr]}\n",
      "                       ==\n",
      "                       suppliedAmount[Supply(pr,org)])\n",
      "    end\n",
      "end\n",
      "\n",
      "#Second Constraint\n",
      "#-----------------\n",
      "\n",
      "for pr in products\n",
      "    for de in dest[pr]\n",
      "        @addConstraint(transpModel, sum{trans[Route(pr, org, de)], org in orig[pr]}\n",
      "                       ==\n",
      "        demandedAmount[Customer(pr,de)])\n",
      "    end\n",
      "end\n",
      "\n",
      "# Final constraint:\n",
      "# ----------------\n",
      "for org in cities\n",
      "    for de in cities\n",
      "        if org!=de\n",
      "        @addConstraint(transpModel, \n",
      "        sum{\n",
      "            trans[r], r in routes\n",
      "            ; r.o == org && r.d==de # This will be used as an filtering condition\n",
      "        }\n",
      "                       <=\n",
      "        capacity)\n",
      "        else\n",
      "            continue\n",
      "        end\n",
      "    end\n",
      "end\n",
      "\n",
      "status=solve(transpModel)\n",
      "\n",
      "println(\"The optimal objective value is: \", getObjectiveValue(transpModel))\n",
      "\n",
      "println(\"The optimal solution is, trans= \\n\", getValue(trans))"
     ],
     "language": "python",
     "metadata": {},
     "outputs": [
      {
       "output_type": "stream",
       "stream": "stdout",
       "text": [
        "The optimal objective value is: "
       ]
      },
      {
       "output_type": "stream",
       "stream": "stdout",
       "text": [
        "199500.0\n",
        "The optimal solution is, trans= \n"
       ]
      },
      {
       "output_type": "stream",
       "stream": "stdout",
       "text": [
        "trans: 1 dimensions, 63 entries:\n",
        " [Route(:bands,:CLEV,:LAN)] = 0.0\n",
        " [Route(:bands,:GARY,:FRA)] = 0.0\n",
        " [Route(:bands,:CLEV,:FRE)] = 0.0\n",
        " [Route(:plate,:CLEV,:DET)] = 100.0\n",
        " [Route(:coils,:PITT,:WIN)] = 0.0\n",
        " [Route(:plate,:CLEV,:LAN)] = -0.0\n",
        " [Route(:bands,:PITT,:FRE)] = 225.0\n",
        " [Route(:plate,:GARY,:WIN)] = 0.0\n",
        " [Route(:coils,:GARY,:LAF)] = 150.0\n",
        " [Route(:coils,:CLEV,:STL)] = 300.0\n",
        " [Route(:plate,:CLEV,:STL)] = -0.0\n",
        " [Route(:bands,:PITT,:LAN)] = 100.0\n",
        " [Route(:coils,:GARY,:FRE)] = 625.0\n",
        " [Route(:plate,:CLEV,:FRA)] = 0.0\n",
        " [Route(:coils,:CLEV,:FRA)] = 0.0\n",
        " [Route(:bands,:PITT,:LAF)] = 250.0\n",
        " [Route(:coils,:CLEV,:FRE)] = 50.0\n",
        " [Route(:bands,:GARY,:DET)] = 0.0\n",
        " [Route(:plate,:GARY,:FRA)] = 0.0\n",
        " [Route(:coils,:CLEV,:LAF)] = 175.0\n",
        " [Route(:bands,:PITT,:WIN)] = 0.0\n",
        " [Route(:plate,:PITT,:FRE)] = 0.0\n",
        " [Route(:coils,:CLEV,:DET)] = 425.0\n",
        " [Route(:plate,:GARY,:FRE)] = 0.0\n",
        " [Route(:bands,:GARY,:FRE)] = 0.0\n",
        " [Route(:bands,:PITT,:DET)] = 200.0\n",
        " [Route(:bands,:GARY,:LAN)] = 0.0\n",
        " [Route(:bands,:PITT,:FRA)] = 25.0\n",
        " [Route(:coils,:PITT,:LAF)] = 175.0\n",
        " [Route(:plate,:CLEV,:LAF)] = 50.0\n",
        " [Route(:bands,:CLEV,:STL)] = 250.0\n",
        " [Route(:coils,:GARY,:WIN)] = 0.0\n",
        " [Route(:plate,:GARY,:STL)] = 200.0\n",
        " [Route(:bands,:CLEV,:WIN)] = 75.0\n",
        " [Route(:coils,:PITT,:FRA)] = 500.0\n",
        " [Route(:bands,:CLEV,:FRA)] = 275.0\n",
        " [Route(:plate,:PITT,:FRA)] = 100.0\n",
        " [Route(:plate,:GARY,:LAF)] = 0.0\n",
        " [Route(:coils,:CLEV,:LAN)] = 400.0\n",
        " [Route(:plate,:PITT,:STL)] = 0.0\n",
        " [Route(:coils,:CLEV,:WIN)] = 250.0\n",
        " [Route(:coils,:PITT,:DET)] = 325.0\n",
        " [Route(:coils,:GARY,:LAN)] = 0.0\n",
        " [Route(:plate,:PITT,:LAF)] = 200.0\n",
        " [Route(:plate,:PITT,:DET)] = 0.0\n",
        " [Route(:plate,:CLEV,:WIN)] = 50.0\n",
        " [Route(:coils,:GARY,:DET)] = 0.0\n",
        " [Route(:bands,:PITT,:STL)] = 0.0\n",
        " [Route(:plate,:CLEV,:FRE)] = 100.0\n",
        " [Route(:bands,:GARY,:WIN)] = 0.0\n",
        " [Route(:plate,:PITT,:LAN)] = 0.0\n",
        " [Route(:coils,:GARY,:FRA)] = 0.0\n",
        " [Route(:plate,:GARY,:LAN)] = 0.0\n",
        " [Route(:plate,:PITT,:WIN)] = 0.0\n",
        " [Route(:bands,:CLEV,:DET)] = 100.0\n",
        " [Route(:coils,:PITT,:STL)] = 625.0\n",
        " [Route(:bands,:GARY,:LAF)] = 0.0\n",
        " [Route(:bands,:CLEV,:LAF)] = 0.0\n",
        " [Route(:plate,:GARY,:DET)] = 0.0\n",
        " [Route(:coils,:PITT,:LAN)] = 0.0\n",
        " [Route(:coils,:PITT,:FRE)] = 175.0\n",
        " [Route(:coils,:GARY,:STL)] = 25.0\n",
        " [Route(:bands,:GARY,:STL)] = 400.0"
       ]
      },
      {
       "output_type": "stream",
       "stream": "stdout",
       "text": [
        "\n"
       ]
      }
     ],
     "prompt_number": 8
    },
    {
     "cell_type": "code",
     "collapsed": false,
     "input": [],
     "language": "python",
     "metadata": {},
     "outputs": []
    }
   ],
   "metadata": {}
  }
 ]
}