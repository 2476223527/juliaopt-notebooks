{
 "metadata": {
  "language": "Julia",
  "name": "",
  "signature": "sha256:fad7a25aafb06a8685043bcba1852e99a37632d7e7ce06d5cc5ad3986f8c0ab4"
 },
 "nbformat": 3,
 "nbformat_minor": 0,
 "worksheets": [
  {
   "cells": [
    {
     "cell_type": "markdown",
     "metadata": {},
     "source": [
      "**Description:** This notebook describes how to implement column generation, which is a large scale optimization scheme, in JuMP. The cutting stock problem has been used as an illustrative example.\n",
      "\n",
      "**Author:** [Shuvomoy Das Gupta](http://scg.utoronto.ca/~shuvomoy.dasgupta/)\n",
      "\n",
      "**License:** <a rel=\"license\" href=\"http://creativecommons.org/licenses/by-sa/4.0/\"><img alt=\"Creative Commons License\" style=\"border-width:0\" src=\"https://i.creativecommons.org/l/by-sa/4.0/88x31.png\" /></a><br />This work is licensed under a <a rel=\"license\" href=\"http://creativecommons.org/licenses/by-sa/4.0/\">Creative Commons Attribution-ShareAlike 4.0 International License</a>.\n",
      "\n",
      "# Using Julia+JuMP for optimization - column generation \n",
      "--------------------------\n",
      "<br>\n",
      "\n",
      "Implementing large scale optimization techniques such as column generation is really easy using JuMP. To explain how to implement column generation in JuMP, we consider the famous cutting stock problem. For more details about the problem, see pages 234-236 of Introduction to Linear Optimization by Bertsimas and Tsitsiklis."
     ]
    },
    {
     "cell_type": "markdown",
     "metadata": {},
     "source": [
      "## Notation and notions:\n",
      "\n",
      "- Width of a large roll is $W$, and it needs to be cut into smaller width papers according to customer demand\n",
      "- The set of indices of all feasible patterns is, $\\mathcal{J}=\\{1,2,\\ldots,n\\}$, where $n$ is a very large number\n",
      "- A strict subset of $\\mathcal{J}$ that is considered in the master problem is $\\mathcal{J}'$\n",
      "- The dummy index for a pattern is $j$ \n",
      "- The index set of all possible paper-widths is, $\\mathcal{M}=\\{1,2,\\ldots,m\\}$\n",
      "- The width of the paper with index $i$ is $w_i$\n",
      "- The demand for the paper of width $w_i$ is $b_i$\n",
      "- Number of smaller rolls of width $w_i$ produced by pattern $j$ is denoted by $a_{ij}$\n",
      "- Number of large rolls cut according to pattern $j$ is denoted by $x_j$\n",
      "\n",
      "----------------------\n",
      "## Original unabridged problem: \n",
      "\n",
      "\\begin{align}\n",
      "&\\text{minimize} && \\sum_{j \\in \\mathcal{J}}{x_j} \\\\\n",
      "&\\text{subject to} &&\\\\\n",
      "& &&\\forall i \\in \\mathcal{M} \\quad \\sum_{j \\in \\mathcal{J}}{a_{ij} x_j}=b_i \\\\\n",
      "& && \\forall j \\in \\mathcal{J} \\quad x_j \\geq 0 \\\\\n",
      "\\end{align}\n",
      "\n",
      "----------------------\n",
      "\n",
      "## Structure of the decomposition\n",
      "\n",
      "**Master Problem:**\n",
      "\\begin{align}\n",
      "&\\text{minimize} && \\sum_{j \\in \\mathcal{J}'}{x_j} \\\\\n",
      "&\\text{subject to} &&\\\\\n",
      "& &&\\forall i \\in \\mathcal{M} \\quad \\sum_{j \\in \\mathcal{J}'}{a_{ij} x_j}=b_i \\\\\n",
      "& && \\forall j \\in \\mathcal{J}' \\quad x_j \\geq 0 \\\\\n",
      "\\end{align}\n",
      "\n",
      "**Subproblem:**\n",
      "\\begin{align}\n",
      "&\\text{minimize} && 1 - \\sum_{i \\in \\mathcal{M}} \\quad {p_i a_{i {j^*}}} \\\\\n",
      "&\\text{subject to} &&\\\\\n",
      "& && \\forall i \\in \\mathcal{M} \\quad a_{i {j^*}} \\geq 0, \\quad a_{ij^*} \\; \\text{integer} \\\\\n",
      "& && \\sum_{i \\in \\mathcal{M}}{w_i a_{i{j^*}}} \\leq W\\\\\n",
      "\\end{align}\n",
      "\n",
      "If objective value of the subproblem (min of the reduced cost vector) is greater than or equal to $0$, then it is optimal. Otherwise, add the column $(a_{i {j^*}})_{i \\in \\mathcal{M}}=A_{j*}$ and a corresponding new variable $x_{j*}$ is added to the master problem. The modified master problem is as follows:\n",
      "\n",
      "**Modified Master Problem**\n",
      " \\begin{align}\n",
      "&\\text{minimize} && \\sum_{j \\in \\mathcal{J}'}{x_j} + x_{j^*} \\\\\n",
      "&\\text{subject to} &&\\\\\n",
      "& &&\\forall i \\in \\mathcal{M} \\quad \\sum_{j \\in \\mathcal{J}'}{a_{ij} x_j}+a_{i j^*} x_{j^*}=b_i \\\\\n",
      "& && \\forall j \\in \\mathcal{J}'  \\quad x_j \\geq 0, x_j^* \\geq 0 \\\\\n",
      "\\end{align}"
     ]
    },
    {
     "cell_type": "markdown",
     "metadata": {},
     "source": [
      "## Pseduocode\n",
      "\n",
      "- Input preliminary data for starting the problem\n",
      "- Solve the master problem with the initial data\n",
      "\\begin{align}\n",
      "&\\text{minimize} && \\sum_{j \\in \\mathcal{J}'}{x_j} \\\\\n",
      "&\\text{subject to} &&\\\\\n",
      "& &&\\forall i \\in \\mathcal{M} \\quad \\sum_{j \\in \\mathcal{J}'}{a_{ij} x_j}=b_i \\\\\n",
      "& && \\forall j \\in \\mathcal{J}' \\quad x_j \\geq 0 \\\\\n",
      "\\end{align}\n",
      "\n",
      "- Collect the dual variables for the equality constraints and store them in an array $(p_i)_{i \\in \\mathcal{M}}$\n",
      "\n",
      "- Solve the sub problem \n",
      "\\begin{align}\n",
      "&\\text{minimize} && 1 - \\sum_{i \\in \\mathcal{M}} \\quad {p_i a_{i {j^*}}} \\\\\n",
      "&\\text{subject to} &&\\\\\n",
      "& && \\forall i \\in \\mathcal{M} \\quad a_{i {j^*}} \\geq 0,  \\quad a_{ij^*} \\; \\text{integer} \\\\\n",
      "& && \\sum_{i \\in \\mathcal{M}}{w_i a_{i{j^*}}} \\leq W\\\\\n",
      "\\end{align}\n",
      "- Flow control:<br>\n",
      "\n",
      "\n",
      "while ( $\\text{optimal value of the subproblem} < 0$) <br>\n",
      "> * Add the column $(a_{i {j^*}})_{i \\in \\mathcal{M}}=A_{j*}$ to $A$ <br>\n",
      "> * Add a corresponding new variable $x_{j*}$ to the list of variables <br>\n",
      "> * Solve the modified master problem <br>\n",
      " \\begin{align}\n",
      "&\\text{minimize} && \\sum_{j \\in \\mathcal{J}'}{x_j} + x_{j^*} \\\\\n",
      "&\\text{subject to} &&\\\\\n",
      "& &&\\forall i \\in \\mathcal{M} \\quad \\sum_{j \\in \\mathcal{J}'}{a_{ij} x_j}+a_{i j^*} x_{j^*}=b_i \\\\\n",
      "& && \\forall j \\in \\mathcal{J}'  \\quad x_j \\geq 0 \\\\\n",
      "& && \\qquad \\qquad \\; \\; x_{j^*} \\geq 0\n",
      "\\end{align}\n",
      "> * Collect the dual variables for the equality constraints and store them in an array $(p_i)_{i \\in \\mathcal{M}}$\n",
      "> * Solve the sub problem as before <br>\n",
      "> * Set $\\mathcal{J}':=\\mathcal{J}'\\cup \\{j^*\\}$ <br>\n",
      "\n",
      " end while <br>\n",
      "\n",
      "\n",
      "\n",
      "- Display the results   "
     ]
    },
    {
     "cell_type": "markdown",
     "metadata": {},
     "source": [
      "## Master Problem Modification in JuMP\n",
      "The problem modification can be done by using the already mentioned `@defVar` macro:\n",
      "\n",
      "$\n",
      "@\\texttt{defVar}(m, l \\leq x_\\text{new} \\leq u, \\texttt{Int},  \\texttt{objective} = c_\\text{new}, \\texttt{inconstraints} = \\text{arrayConstrrefs}, \\texttt{coefficients} = \\text{arrayCoefficients}) \n",
      "$\n",
      "Here: \n",
      "\n",
      "- The name of the original model is $m$.\n",
      "- The new variable to be added is $x_\\text{new}$ with lower bound $l$ and upper bound $u$.\n",
      "- The type of the variable can be `Int`, `Bin`. For real variable the third argument is left vacant.\n",
      "- The original objective, say $f_o(x)$ will become $f_o(x) +  c_\\text{new} x_\\text{new}$ after modification\n",
      "- The array $\\texttt{arrayConstrrefs}$ contain references to those constraints that need to be modified by inclusion of $x_\\text{new}$\n",
      "- The array $\\texttt{arrayCoefficients}$ contain the coefficients that have to multiplied with $x_\\text{new}$ and then added to the constraints referened by $\\texttt{arrayConstrrefs}$ in an orderly manner. For example, if the $i$th element of $\\texttt{arrayConstrrefs}$ refers to a constraint $a_i^T x \\lesseqgtr b_i$, then after invoking the command, the constraint is modified as:\n",
      "$a_i^T x +\\texttt{arrayCoefficients}[i] x_\\text{new} \\lesseqgtr b_i$"
     ]
    },
    {
     "cell_type": "markdown",
     "metadata": {},
     "source": [
      "## Implementing one iteration of the column generation algorithm\n",
      "\n",
      "To understand how the column generation is working in Julia, we implement one iteration of the column generation algorithm manually. The entire code is presented in the next section.\n"
     ]
    },
    {
     "cell_type": "code",
     "collapsed": false,
     "input": [
      "                    # Uploading the packages:\n",
      "                    # -----------------------\n",
      "\n",
      "using JuMP \n",
      "\n",
      "# We will use default solvers"
     ],
     "language": "python",
     "metadata": {},
     "outputs": [],
     "prompt_number": 1
    },
    {
     "cell_type": "code",
     "collapsed": false,
     "input": [
      "              # Input preliminary data for starting the problem\n",
      "              # -----------------------------------------------\n",
      "\n",
      "W=110\n",
      "cardinalityM=5\n",
      "M=[1:cardinalityM]\n",
      "A=eye(cardinalityM)\n",
      "p=zeros(5)\n",
      "b=[48; 35; 24; 10; 8]\n",
      "w=[20; 45; 50; 55; 75]"
     ],
     "language": "python",
     "metadata": {},
     "outputs": [
      {
       "metadata": {},
       "output_type": "pyout",
       "prompt_number": 2,
       "text": [
        "5-element Array{Int64,1}:\n",
        " 20\n",
        " 45\n",
        " 50\n",
        " 55\n",
        " 75"
       ]
      }
     ],
     "prompt_number": 2
    },
    {
     "cell_type": "code",
     "collapsed": false,
     "input": [
      "# Description of the master problem with the initial data\n",
      "#----------------------\n",
      "\n",
      "cutstockMain = Model() # Model for the master problem\n",
      "Jprime=[1:size(A,2)] # Intial number of variables\n",
      "@defVar(cutstockMain, 0 <= x[Jprime] <= 1000000) # Defining the variables\n",
      "@setObjective(cutstockMain, Min, sum{1*x[j],j in Jprime}) # Setting the objective\n",
      "@defConstrRef consRef[1:cardinalityM] # References for the constraints\n",
      "for (i in M)\n",
      "    consRef[i] = @addConstraint(cutstockMain, sum{A[i,j]*x[j], j in Jprime}==b[i])\n",
      "end\n",
      "print(cutstockMain)"
     ],
     "language": "python",
     "metadata": {},
     "outputs": [
      {
       "output_type": "stream",
       "stream": "stdout",
       "text": [
        "Min x[1] + x[2] + x[3] + x[4] + x[5]\n",
        "Subject to\n",
        " x[1] == 48\n",
        " x[2] == 35\n",
        " x[3] == 24\n",
        " x[4] == 10\n",
        " x[5] == 8\n",
        " 0 <= x[i] <= 1.0e6 for all i in {1,2..4,5}\n"
       ]
      }
     ],
     "prompt_number": 3
    },
    {
     "cell_type": "code",
     "collapsed": false,
     "input": [
      "# Solving the master problem with the initial data\n",
      "# ------------------------------------------------\n",
      "solve(cutstockMain)\n",
      "println(\"Current solution of the master problem is \", getValue(x))\n",
      "println(\"Current objective value of the master problem is \", getObjectiveValue(cutstockMain))"
     ],
     "language": "python",
     "metadata": {},
     "outputs": [
      {
       "output_type": "stream",
       "stream": "stdout",
       "text": [
        "Current solution of the master problem is "
       ]
      },
      {
       "output_type": "stream",
       "stream": "stdout",
       "text": [
        "x: 1 dimensions, 5 entries:\n",
        " [1] = 48.0\n",
        " [2] = 35.0\n",
        " [3] = 24.0\n",
        " [4] = 10.0\n",
        " [5] = 8.0"
       ]
      },
      {
       "output_type": "stream",
       "stream": "stdout",
       "text": [
        "\n",
        "Current objective value of the master problem is 125.0\n"
       ]
      }
     ],
     "prompt_number": 4
    },
    {
     "cell_type": "code",
     "collapsed": false,
     "input": [
      "#Collect the dual variables for the equality constraints and store them in an array p\n",
      "for i in M\n",
      "    p[i] = getDual(consRef[i]) # These p[i] are the input data for the subproblem\n",
      "end \n",
      "println(\"The array storing the dual variables is \", p)"
     ],
     "language": "python",
     "metadata": {},
     "outputs": [
      {
       "output_type": "stream",
       "stream": "stdout",
       "text": [
        "The array storing the dual variables is "
       ]
      },
      {
       "output_type": "stream",
       "stream": "stdout",
       "text": [
        "[1.0,1.0,1.0,1.0,1.0]\n"
       ]
      }
     ],
     "prompt_number": 5
    },
    {
     "cell_type": "code",
     "collapsed": false,
     "input": [
      "# Describe the sub problem\n",
      "# ------------------------\n",
      "cutstockSub=Model() # Model for the subproblem\n",
      "@defVar(cutstockSub, 0 <= Ajstar[M] <= 1000000, Int )\n",
      "@setObjective(cutstockSub, Min, 1-sum{p[i]*Ajstar[i],i in M})\n",
      "@addConstraint(cutstockSub, sum{w[i]*Ajstar[i], i in M} <= W)\n",
      "print(cutstockSub)"
     ],
     "language": "python",
     "metadata": {},
     "outputs": [
      {
       "output_type": "stream",
       "stream": "stdout",
       "text": [
        "Min -Ajstar[1] - Ajstar[2] - Ajstar[3] - Ajstar[4] - Ajstar[5] + 1\n",
        "Subject to\n",
        " 20 Ajstar[1] + 45 Ajstar[2] + 50 Ajstar[3] + 55 Ajstar[4] + 75 Ajstar[5] <= 110\n",
        " 0 <= Ajstar[i] <= 1.0e6, integer, for all i in {1,2..4,5}\n"
       ]
      }
     ],
     "prompt_number": 6
    },
    {
     "cell_type": "code",
     "collapsed": false,
     "input": [
      "# Solve the sub problem\n",
      "# ---------------------\n",
      "solve(cutstockSub)\n",
      "minreducedCost=getObjectiveValue(cutstockSub)\n",
      "println(\"The minimum component of the reduced cost vector is \", minreducedCost)"
     ],
     "language": "python",
     "metadata": {},
     "outputs": [
      {
       "output_type": "stream",
       "stream": "stdout",
       "text": [
        "The minimum component of the reduced cost vector is "
       ]
      },
      {
       "output_type": "stream",
       "stream": "stdout",
       "text": [
        "-4.0\n"
       ]
      }
     ],
     "prompt_number": 7
    },
    {
     "cell_type": "markdown",
     "metadata": {},
     "source": [
      "The minimum component of the reduced cost vector is negative, so we have a suboptimal solution."
     ]
    },
    {
     "cell_type": "code",
     "collapsed": false,
     "input": [
      "if minreducedCost >= 0\n",
      "    println(\"We are done, current solution of the master problem is optimal\")\n",
      "else\n",
      "    println(\"We have a cost reducing column \", getValue(Ajstar))\n",
      "end\n"
     ],
     "language": "python",
     "metadata": {},
     "outputs": [
      {
       "output_type": "stream",
       "stream": "stdout",
       "text": [
        "We have a cost reducing column "
       ]
      },
      {
       "output_type": "stream",
       "stream": "stdout",
       "text": [
        "Ajstar: 1 dimensions, 5 entries:\n",
        " [1] = 5.0\n",
        " [2] = 0.0\n",
        " [3] = 0.0\n",
        " [4] = 0.0\n",
        " [5] = 0.0\n"
       ]
      }
     ],
     "prompt_number": 8
    },
    {
     "cell_type": "code",
     "collapsed": false,
     "input": [
      "typeof(Ajstar)"
     ],
     "language": "python",
     "metadata": {},
     "outputs": [
      {
       "metadata": {},
       "output_type": "pyout",
       "prompt_number": 9,
       "text": [
        "JuMPDict{Variable,1} (constructor with 1 method)"
       ]
      }
     ],
     "prompt_number": 9
    },
    {
     "cell_type": "markdown",
     "metadata": {},
     "source": [
      "Now `Ajstar` is of type JuMPDict. To use it in the modified master problem, we have to store values from `Ajstar` in a column vector."
     ]
    },
    {
     "cell_type": "code",
     "collapsed": false,
     "input": [
      "Anew=Float64[] # This Anew correspond to the newly added column to the A matrix\n",
      "for (i in 1:cardinalityM)\n",
      "    push!(Anew, getValue(Ajstar)[i])\n",
      "end"
     ],
     "language": "python",
     "metadata": {},
     "outputs": [],
     "prompt_number": 10
    },
    {
     "cell_type": "markdown",
     "metadata": {},
     "source": [
      "When we add the cost reducing column `Anew` to the original matrix `A`, it also gives rise to a new variable `xNew` corresponding to `Anew`. Now we want to keep track of the new variables that are added by the subproblem. We do this by declaring an array of `Variable`s named `xNewArray`, which will contain all such newly added variables in the process of column generation. "
     ]
    },
    {
     "cell_type": "code",
     "collapsed": false,
     "input": [
      "xNewArray=Variable[] # The newly added variables by flow control will be\n",
      "# pushed to the new array of variables xNewArray"
     ],
     "language": "python",
     "metadata": {},
     "outputs": [
      {
       "metadata": {},
       "output_type": "pyout",
       "prompt_number": 11,
       "text": [
        "0-element Array{Variable,1}"
       ]
      }
     ],
     "prompt_number": 11
    },
    {
     "cell_type": "markdown",
     "metadata": {},
     "source": [
      "Here we just illustrate one iteration of the while loop manually, because, for now, we are interested to understand how JuMP is managing the flow control and modifying the master problem and the sub problem. \n",
      "\n",
      "Let's modify the master problem by adding the new column `Anew` to the old `A` matrix. Note that we do not have to rewrite the entire model."
     ]
    },
    {
     "cell_type": "code",
     "collapsed": false,
     "input": [
      "# Modify the master problem by adding the new column Anew to the old A matrix\n",
      "@defVar(\n",
      "cutstockMain, # Model to be modified\n",
      "0 <= xNew <= 1000000, # New variable to be added\n",
      "objective=1, # cost coefficient of new varaible in the objective\n",
      "inconstraints=consRef,  # constraints to be modified\n",
      "coefficients=Anew # the coefficients of the variable in those constraints\n",
      ") \n",
      "\n",
      "# The line above adds the column (a\u1d62\u2c7c*)\u1d62=A\u2c7c* to A <br>\n",
      "# and add a corresponding new variable x\u2c7c* to the list of variable\n",
      "\n",
      "push!(xNewArray, xNew) # Pushing the new variable in the array of new variables\n",
      "print(cutstockMain)"
     ],
     "language": "python",
     "metadata": {},
     "outputs": [
      {
       "output_type": "stream",
       "stream": "stdout",
       "text": [
        "Min x[1] + x[2] + x[3] + x[4] + x[5] + xNew\n",
        "Subject to\n",
        " x[1] + 5 xNew == 48\n",
        " x[2] == 35\n",
        " x[3] == 24\n",
        " x[4] == 10\n",
        " x[5] == 8\n",
        " 0 <= x[i] <= 1.0e6 for all i in {1,2..4,5}\n",
        " 0 <= xNew <= 1.0e6\n"
       ]
      }
     ],
     "prompt_number": 12
    },
    {
     "cell_type": "markdown",
     "metadata": {},
     "source": [
      "Though we are showing only one iteration of the flow control, in the final code for sure we want to have a \n",
      ">```\n",
      "while ( some condition )\n",
      "(\n",
      "...\n",
      ")\n",
      "end\n",
      "```\n",
      "\n",
      "block. \n",
      "\n",
      "Now if we do not do anything else in the final code, all the names of the newly added variables by the `while` loop will be the same: `xNew`! JuMP is intelligent enough  to treat them as seperate varaibles, but it is not very human-friendly. It is more convenient if the newly added variables were given different names, which we can achieve by `setName(oldName, newName)` function.\n"
     ]
    },
    {
     "cell_type": "code",
     "collapsed": false,
     "input": [
      "setName(xNew, string(\"x[\",size(A,2)+1,\"]\")) # Changing the name of the variable \n",
      "# otherwise all the newly added variables will have name xNew!\n",
      "# size(A,2) gives the column number of A"
     ],
     "language": "python",
     "metadata": {},
     "outputs": [
      {
       "metadata": {},
       "output_type": "pyout",
       "prompt_number": 13,
       "text": [
        "\"x[6]\""
       ]
      }
     ],
     "prompt_number": 13
    },
    {
     "cell_type": "markdown",
     "metadata": {},
     "source": [
      "Let us see if the name of the variable has changed as desired."
     ]
    },
    {
     "cell_type": "code",
     "collapsed": false,
     "input": [
      "print(cutstockMain) # Let us see if the name of the variables have changed as desired"
     ],
     "language": "python",
     "metadata": {},
     "outputs": [
      {
       "output_type": "stream",
       "stream": "stdout",
       "text": [
        "Min x[1] + x[2] + x[3] + x[4] + x[5] + x[6]\n",
        "Subject to\n",
        " x[1] + 5 x[6] == 48\n",
        " x[2] == 35\n",
        " x[3] == 24\n",
        " x[4] == 10\n",
        " x[5] == 8\n",
        " 0 <= x[i] <= 1.0e6 for all i in {1,2..4,5}\n",
        " 0 <= x[6] <= 1.0e6\n"
       ]
      }
     ],
     "prompt_number": 14
    },
    {
     "cell_type": "markdown",
     "metadata": {},
     "source": [
      "Indeed it has! Now let's solve the modified master problem, and then collect the associated dual variables for the equality constraints and store them in the array `p`."
     ]
    },
    {
     "cell_type": "code",
     "collapsed": false,
     "input": [
      "statusControlFlow=solve(cutstockMain) # Solve the modified master problem\n",
      "\n",
      "getDual(consRef)\n",
      "for i in M\n",
      "    p[i] = getDual(consRef)[i] \n",
      "end \n",
      "\n",
      "println(p)"
     ],
     "language": "python",
     "metadata": {},
     "outputs": [
      {
       "output_type": "stream",
       "stream": "stdout",
       "text": [
        "["
       ]
      },
      {
       "output_type": "stream",
       "stream": "stdout",
       "text": [
        "0.2,1.0,1.0,1.0,1.0]\n"
       ]
      }
     ],
     "prompt_number": 15
    },
    {
     "cell_type": "markdown",
     "metadata": {},
     "source": [
      "Now we solve the subproblem for the current solution of the master problem:"
     ]
    },
    {
     "cell_type": "code",
     "collapsed": false,
     "input": [
      "# Solving the modified sub problem        \n",
      "@defVar(cutstockSub, 0 <= Ajstar[M] <= 1000000, Int )\n",
      "@setObjective(cutstockSub, Min, 1-sum{p[i]*Ajstar[i],i in M})\n",
      "@addConstraint(cutstockSub, sum{w[i]*Ajstar[i], i in M} <= W)\n",
      "print(cutstockSub) # Let's see what is the current subproblem looks like\n",
      "solve(cutstockSub)\n",
      "minReducedCost=getObjectiveValue(cutstockSub)\n",
      "println(\"Current value of the minimum of the reduced cost vector is \", minReducedCost)"
     ],
     "language": "python",
     "metadata": {},
     "outputs": [
      {
       "output_type": "stream",
       "stream": "stdout",
       "text": [
        "Min -0.2 Ajstar[1] - Ajstar[2] - Ajstar[3] - Ajstar[4] - Ajstar[5] + 1\n",
        "Subject to\n",
        " 20 Ajstar[1] + 45 Ajstar[2] + 50 Ajstar[3] + 55 Ajstar[4] + 75 Ajstar[5] <= 110\n",
        " 20 Ajstar[1] + 45 Ajstar[2] + 50 Ajstar[3] + 55 Ajstar[4] + 75 Ajstar[5] <= 110\n",
        " 0 <= Ajstar[i] <= 1.0e6, integer, for all i in {1,2..4,5}\n",
        " 0 <= Ajstar[i] <= 1.0e6, integer, for all i in {1,2..4,5}\n"
       ]
      },
      {
       "output_type": "stream",
       "stream": "stdout",
       "text": [
        "Current value of the minimum of the reduced cost vector is -1.2000000000000002\n"
       ]
      }
     ],
     "prompt_number": 16
    },
    {
     "cell_type": "markdown",
     "metadata": {},
     "source": [
      "The optimal value of the current subproblem is negative (which will be tested by the conditional statement of the while loop in the final code), giving us a cost reducing column to be added in the master problem. As before we have to store the column `Ajstar` in a column vector `Anew`."
     ]
    },
    {
     "cell_type": "code",
     "collapsed": false,
     "input": [
      "#Store the components of the solution of current subproblem into the column Anew    \n",
      "Anew=Float64[]\n",
      "for (i in 1:cardinalityM)\n",
      "    push!(Anew, getValue(Ajstar)[i])\n",
      "end\n",
      "\n",
      "println(\"New column to be added to A is: \", Anew)"
     ],
     "language": "python",
     "metadata": {},
     "outputs": [
      {
       "output_type": "stream",
       "stream": "stdout",
       "text": [
        "New column to be added to A is: "
       ]
      },
      {
       "output_type": "stream",
       "stream": "stdout",
       "text": [
        "[1.0,2.0,0.0,0.0,0.0]\n"
       ]
      }
     ],
     "prompt_number": 17
    },
    {
     "cell_type": "markdown",
     "metadata": {},
     "source": [
      "Okay, we have understood how JuMP is working in the column generation process. The entire code of the cutting stock problem is given below:"
     ]
    },
    {
     "cell_type": "markdown",
     "metadata": {},
     "source": [
      "## Cutting stock problem code:"
     ]
    },
    {
     "cell_type": "code",
     "collapsed": false,
     "input": [
      "                                                # Verfied to be working:\n",
      "\n",
      "                                                # Uploading the packages:\n",
      "                                                # -----------------------\n",
      "\n",
      "using JuMP\n",
      "using GLPKMathProgInterface\n",
      "\n",
      "                                     # Input preliminary data for starting the problem\n",
      "                                                # ----------------------\n",
      "\n",
      "W=110\n",
      "cardinalityM=5\n",
      "M=[1:cardinalityM]\n",
      "A=eye(cardinalityM)\n",
      "p=zeros(5)\n",
      "b=[48; 35; 24; 10; 8]\n",
      "w=[20; 45; 50; 55; 75]\n",
      "\n",
      "@time begin # time measurement begins\n",
      "\n",
      "                                     # Solve the master problem with the initial data\n",
      "                                                #----------------------\n",
      "\n",
      "cutstockMain = Model() # Model for the master problem\n",
      "Jprime=[1:size(A,2)] # Intial number of variables\n",
      "@defVar(cutstockMain, 0 <= x[Jprime] <= 1000000) # Defining the variables\n",
      "@setObjective(cutstockMain, Min, sum{1*x[j],j in Jprime}) # Setting the objective\n",
      "@defConstrRef consRef[1:cardinalityM] # References for the constraints\n",
      "for (i in M)\n",
      "    consRef[i]=@addConstraint(cutstockMain, sum{A[i,j]*x[j], j in Jprime}==b[i])\n",
      "end\n",
      "solve(cutstockMain)\n",
      " \n",
      " #Collect the dual variables for the equality constraints and store them in an array p\n",
      "getDual(consRef)\n",
      "for i in M\n",
      "    p[i] = getDual(consRef)[i] # These p[i] are the input data for the subproblem\n",
      "end \n",
      "\n",
      "                                             # Solve the sub problem\n",
      "                                                # -------------------\n",
      "\n",
      "cutstockSub=Model() # Model for the subproblem\n",
      "@defVar(cutstockSub, 0 <= Ajstar[M] <= 1000000, Int )\n",
      "@setObjective(cutstockSub, Min, 1-sum{p[i]*Ajstar[i],i in M})\n",
      "@addConstraint(cutstockSub, sum{w[i]*Ajstar[i], i in M} <= W)\n",
      "solve(cutstockSub)\n",
      "minReducedCost=getObjectiveValue(cutstockSub)\n",
      "\n",
      "Anew=Float64[] # This Anew correspond to the newly added column to the A matrix\n",
      "for (i in 1:cardinalityM)\n",
      "    push!(Anew, getValue(Ajstar)[i])\n",
      "end\n",
      "\n",
      "xNewArray=Variable[] # The newly added variables by flow control will be pushed to the new array of variables xNewArray\n",
      "\n",
      "k=1 # Counter for the while loop\n",
      "\n",
      "                                                # Flow control\n",
      "                                                # ------------\n",
      "\n",
      "while (minReducedCost < 0) #while (current solution of the master problem is suboptimal, i.e., subproblem objective value < 0)\n",
      "    # Solve the master problem by adding the new column Anew to the old A matrix\n",
      "     @defVar(\n",
      "             cutstockMain, # Model to be modified\n",
      "             0 <= xNew <= 1000000, # New variable to be added\n",
      "             objective=1, # cost coefficient of new varaible in the objective\n",
      "             inconstraints=consRef,  # constraints to be modified\n",
      "             coefficients=Anew # the coefficients of the variable in those constraints\n",
      "            ) \n",
      "        # The line above adds the column (a\u1d62\u2c7c*)\u1d62=A\u2c7c* to A <br>\n",
      "        # and add a corresponding new variable x\u2c7c* to the list of variable\n",
      "        push!(xNewArray, xNew) # Pushing the new variable in the array of new variables\n",
      "        setName(xNew, string(\"x[\",size(A,2)+k,\"]\")) # Changing the name of the variable \n",
      "                                               # otherwise all the newly added variables will have name xNew!\n",
      "        k=k+1 # Increasing k by 1\n",
      "statusControlFlow=solve(cutstockMain)\n",
      "\n",
      "#Collect the dual variables for the equality constraints and store them in an array p\n",
      "getDual(consRef)\n",
      "for i in M\n",
      "    p[i] = getDual(consRef)[i] \n",
      "end \n",
      "   \n",
      "# Solving the modified sub problem        \n",
      "@defVar(cutstockSub, 0 <= Ajstar[M] <= 1000000, Int )\n",
      "@setObjective(cutstockSub, Min, 1-sum{p[i]*Ajstar[i],i in M})\n",
      "@addConstraint(cutstockSub, sum{w[i]*Ajstar[i], i in M} <= W)\n",
      "solve(cutstockSub)\n",
      "minReducedCost=getObjectiveValue(cutstockSub)\n",
      "\n",
      "#Store the components of the solution of current subproblem into the column Anew    \n",
      "Anew=Float64[]\n",
      "for (i in 1:cardinalityM)\n",
      "    push!(Anew, getValue(Ajstar)[i])\n",
      "end\n",
      "        end # While loop ends\n",
      "    \n",
      "    end # time measurement ends\n",
      "\n",
      "                                  # Print the results\n",
      "                                  # -----------------\n",
      "\n",
      "println(\"Objective value: \", getObjectiveValue(cutstockMain))\n",
      "println(\"Current Solution is: \", getValue(x))\n",
      "println(\"With \", length(xNewArray), \" variables added by flow control:\")\n",
      "for i in 1:length(xNewArray)\n",
      "    println(\"[\",size(A,2)+i,\"] = \",getValue(xNewArray[i]))\n",
      "end\n",
      "println(\"Reduced cost of the current solution is \", getObjectiveValue(cutstockSub))"
     ],
     "language": "python",
     "metadata": {},
     "outputs": [
      {
       "output_type": "stream",
       "stream": "stdout",
       "text": [
        "elapsed time: "
       ]
      },
      {
       "output_type": "stream",
       "stream": "stdout",
       "text": [
        "0.033009313 seconds (706408 bytes allocated)\n",
        "Objective value: 46.25\n",
        "Current Solution is: x: 1 dimensions, 5 entries:\n",
        " [1] = 0.0\n",
        " [2] = 0.0\n",
        " [3] = 0.0\n",
        " [4] = 0.0\n",
        " [5] = 0.0\n",
        "With 6 variables added by flow control:\n",
        "[6] = 0.0\n",
        "[7] = 17.5\n",
        "[8] = 8.25\n",
        "[9] = 5.0\n",
        "[10] = 8.0\n",
        "[11] = 7.499999999999999\n",
        "Reduced cost of the current solution is 0.0\n"
       ]
      }
     ],
     "prompt_number": 19
    }
   ],
   "metadata": {}
  }
 ]
}