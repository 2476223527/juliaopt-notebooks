{
 "metadata": {
  "language": "Julia",
  "name": "",
  "signature": "sha256:95d8d8e322ebd34d3bef9e9d130b7f2b6909feb2b0c0669a6b936075c2beae59"
 },
 "nbformat": 3,
 "nbformat_minor": 0,
 "worksheets": [
  {
   "cells": [
    {
     "cell_type": "markdown",
     "metadata": {},
     "source": [
      "**Description:** This notebook is an introduction to JuMP. The topics described are as follows:\n",
      "- Installing Julia and JuMP\n",
      "- Representing vectors in Julia\n",
      "- Structure of a JuMP model\n",
      "- Solving general purpose linear programming problem\n",
      "- Solving general purpose integer programming problem\n",
      "\n",
      "**Author:** [Shuvomoy Das Gupta](http://scg.utoronto.ca/~shuvomoy.dasgupta/)\n",
      "\n",
      "**License:** <a rel=\"license\" href=\"http://creativecommons.org/licenses/by-sa/4.0/\"><img alt=\"Creative Commons License\" style=\"border-width:0\" src=\"https://i.creativecommons.org/l/by-sa/4.0/88x31.png\" /></a><br />This work is licensed under a <a rel=\"license\" href=\"http://creativecommons.org/licenses/by-sa/4.0/\">Creative Commons Attribution-ShareAlike 4.0 International License</a>.\n",
      "\n",
      "# Using Julia+JuMP for optimization - getting started\n",
      "--------------------------\n",
      "\n",
      "## Julia\n",
      "\n",
      "\n",
      "### What is Julia?\n",
      "\n",
      "Julia is a new programming language.\n",
      "\n",
      "### Why Julia?\n",
      "\n",
      "- Free and open-source\n",
      "- Syntax similar to MATLAB, speed similar to C\n",
      "\n",
      "\n",
      "## JuMP\n",
      "\n",
      "### What is JuMP?\n",
      "\n",
      "JuMP is a modelling language for mathematical optimization [1]. It is embedded in Julia.\n",
      "\n",
      "### Why JuMP?\n",
      "\n",
      "- Very user-friendly\n",
      "- Speed similar to special purpose commercial modelling language like AMPL\n",
      "- Solver independent code: same code will run for both commercial and open-source solvers\n",
      "- Very easy to implement solver callback and problem modification\n"
     ]
    },
    {
     "cell_type": "markdown",
     "metadata": {},
     "source": [
      "# Installation\n",
      "\n",
      "## Installing Julia and IJulia\n",
      "\n",
      "### Installing Julia\n",
      "\n",
      "Go to the [download page](http://julialang.org/downloads/ \"downloadJulia\") of Julia, download the appropriate installer and run it. Now you can start an interactive Julia session! \n",
      "\n",
      "<img src=\"http://scg.utoronto.ca/~shuvomoy.dasgupta/Miscellaneous/JuMPTutorial/julia_REPL.png\">\n",
      "\n",
      "### Installing IJulia\n",
      "\n",
      "IJulia will allow us to create powerful graphical notebooks, which is very convenient for the tutorial. We can insert codes, text, mathematical formulas and multimedia etc in the same notebook. To install IJulia: \n",
      "\n",
      "- Install Anaconda from http://continuum.io/downloads. If you are on Windows, then while running the Anaconda installer please check the options *Add Anaconda to the System Path* and also *Register Anaconda as default Python version of the system*.\n",
      "\n",
      "- Now start a Julia interactive session. Type the following `Pkg.add(\"IJulia\")`\n",
      "\n",
      "- To open a new notebook\n",
      " *  In the Julia interactive session, run `Using IJulia` and then `notebook()`. It will open the Home for IJulia in your web browser. \n",
      " \n",
      " <img src=\"http://scg.utoronto.ca/~shuvomoy.dasgupta/Miscellaneous/JuMPTutorial/IJulia_home.png\">\n",
      " \n",
      " * The directory location can be checked by the command `pwd()`. If you want to change the directory to something else, the before running `Using IJulia` and `notebook()`, run `cd(path to your preferred directory)`, e.g., `cd(\"E:\\\\Dropbox\\\\Julia_Workspaces\")`.  \n",
      " * Click on *New Notebook* on the top right corner. In the new notebook, you can execute any Julia command pressing SHIFT+ENTER.\n",
      " \n",
      " <img src=\"http://scg.utoronto.ca/~shuvomoy.dasgupta/Miscellaneous/JuMPTutorial/Hello_world_IJulia.png\">\n",
      " \n",
      "### Installing JuMP\n",
      " \n",
      "At first add the JuMP package by running the following code in the notebook:\n"
     ]
    },
    {
     "cell_type": "code",
     "collapsed": false,
     "input": [
      "Pkg.add(\"JuMP\")"
     ],
     "language": "python",
     "metadata": {},
     "outputs": [
      {
       "output_type": "stream",
       "stream": "stderr",
       "text": [
        "INFO: Nothing to be done\n"
       ]
      }
     ],
     "prompt_number": 2
    },
    {
     "cell_type": "markdown",
     "metadata": {},
     "source": [
      "We need to install a solver package. Let's install the opensource solvers GLPK, Cbc and Clp by typing in `Pkg.add(\"GLPKMathProgInterface\")`, `Pkg.add(\"Cbc\")` and `Pkg.add(\"Clp\")` respectively. Let's add the Julia package associated with CPLEX by typing in `Pkg.add(\"CPLEX\")`. The other choices are `\"CPLEX\"`, `\"Cbc\"`, `\"Clp\"`, `\"Gurobi\"` and `\"MOSEK\"`. "
     ]
    },
    {
     "cell_type": "code",
     "collapsed": false,
     "input": [
      "Pkg.add(\"GLPKMathProgInterface\")"
     ],
     "language": "python",
     "metadata": {},
     "outputs": [
      {
       "output_type": "stream",
       "stream": "stderr",
       "text": [
        "INFO: Nothing to be done\n"
       ]
      }
     ],
     "prompt_number": 4
    },
    {
     "cell_type": "code",
     "collapsed": false,
     "input": [
      "Pkg.add(\"Cbc\")"
     ],
     "language": "python",
     "metadata": {},
     "outputs": [
      {
       "output_type": "stream",
       "stream": "stderr",
       "text": [
        "INFO: Nothing to be done\n"
       ]
      }
     ],
     "prompt_number": 6
    },
    {
     "cell_type": "code",
     "collapsed": false,
     "input": [
      "Pkg.add(\"Clp\")"
     ],
     "language": "python",
     "metadata": {},
     "outputs": [
      {
       "output_type": "stream",
       "stream": "stderr",
       "text": [
        "INFO: Nothing to be done\n"
       ]
      }
     ],
     "prompt_number": 8
    },
    {
     "cell_type": "code",
     "collapsed": false,
     "input": [
      "Pkg.add(\"CPLEX\")"
     ],
     "language": "python",
     "metadata": {},
     "outputs": [
      {
       "output_type": "stream",
       "stream": "stderr",
       "text": [
        "INFO: Nothing to be done\n"
       ]
      }
     ],
     "prompt_number": 11
    },
    {
     "cell_type": "code",
     "collapsed": false,
     "input": [
      "Pkg.add(\"Gurobi\")"
     ],
     "language": "python",
     "metadata": {},
     "outputs": [
      {
       "output_type": "stream",
       "stream": "stderr",
       "text": [
        "INFO: Nothing to be done\n"
       ]
      }
     ],
     "prompt_number": 14
    },
    {
     "cell_type": "markdown",
     "metadata": {},
     "source": [
      "If you have not updated your Julia packages in a while, a good idea might be updating them."
     ]
    },
    {
     "cell_type": "code",
     "collapsed": false,
     "input": [
      "Pkg.update()"
     ],
     "language": "python",
     "metadata": {},
     "outputs": [
      {
       "output_type": "stream",
       "stream": "stderr",
       "text": [
        "INFO: Updating METADATA...\n"
       ]
      },
      {
       "output_type": "stream",
       "stream": "stderr",
       "text": [
        "INFO: Computing changes...\n"
       ]
      },
      {
       "output_type": "stream",
       "stream": "stderr",
       "text": [
        "INFO: No packages to install, update or remove\n"
       ]
      }
     ],
     "prompt_number": 12
    },
    {
     "cell_type": "code",
     "collapsed": false,
     "input": [
      "println(\"Hello World!\")"
     ],
     "language": "python",
     "metadata": {},
     "outputs": [
      {
       "output_type": "stream",
       "stream": "stdout",
       "text": [
        "Hello World!"
       ]
      },
      {
       "output_type": "stream",
       "stream": "stdout",
       "text": [
        "\n"
       ]
      }
     ],
     "prompt_number": 13
    },
    {
     "cell_type": "markdown",
     "metadata": {},
     "source": [
      "# The very first example\n",
      "\n",
      "At first let us try to solve a very simple and trivial optimization problem using JuMP to check if everything is working properly. \n",
      "\n",
      "\n",
      "\\begin{align}\n",
      "\\text{minimize} \\qquad & x+y \\\\\n",
      " \\text{subject to} \\quad \\quad & x+y \\leq 1 \\\\\n",
      " \\qquad \\qquad & x \\geq 0, y \\geq 0 \\\\\n",
      " \\qquad \\qquad & x,y \\in \\mathbb{R}\n",
      "\\end{align}\n",
      "\n",
      "\n",
      "Here is the JuMP code to solve the mentioned problem:"
     ]
    },
    {
     "cell_type": "code",
     "collapsed": false,
     "input": [
      "using JuMP  # Need to say it whenever we use JuMP\n",
      "\n",
      "using GLPKMathProgInterface # Loading the GLPK module for using its solver\n",
      "\n",
      "\n",
      "#MODEL CONSTRUCTION\n",
      "#--------------------\n",
      "\n",
      "myModel = Model(solver=GLPKSolverLP()) \n",
      "# Name of the model object. All constraints and variables of an optimization problem are associated \n",
      "# with a particular model object. The name of the model object does not have to be myModel, it can be yourModel too! The argument of Model,\n",
      "# solver=GLPKsolverLP() means that to solve the optimization problem we will use GLPK solver.\n",
      "\n",
      "#VARIABLES\n",
      "#---------\n",
      "\n",
      "# A variable is modeled using @defVar(name of the model object, variable name and bound, variable type)\n",
      "# Bound can be lower bound, upper bound or both. If no variable type is defined, then it is treated as \n",
      "#real. For binary variable write Bin and for integer use Int.\n",
      "\n",
      "@defVar(myModel, x >= 0) # Models x >=0\n",
      "\n",
      "# Some possible variations:\n",
      "# @defVar(myModel, x, Binary) # No bound on x present, but x is a binary variable now\n",
      "# @defVar(myModel, x <= 10) # This one defines a variable with lower bound x <= 10\n",
      "# @defVar(myModel, 0 <= x <= 10, Int) # This one has both lower and upper bound, and x is an integer\n",
      "\n",
      "@defVar(myModel, y >= 0) # Models y >= 0\n",
      "\n",
      "#OBJECTIVE\n",
      "#---------\n",
      "\n",
      "@setObjective(myModel, Min, x + y) # Sets the objective to be minimized. For maximization use Max\n",
      "\n",
      "#CONSTRAINTS\n",
      "#-----------\n",
      "\n",
      "@addConstraint(myModel, x + y <= 1) # Adds the constraint x + y <= 1\n",
      "\n",
      "#THE MODEL IN A HUMAN-READABLE FORMAT\n",
      "#------------------------------------\n",
      "println(\"The optimization problem to be solved is:\")\n",
      "print(myModel) # Shows the model constructed in a human-readable form\n",
      "\n",
      "#SOLVE IT AND DISPLAY THE RESULTS\n",
      "#--------------------------------\n",
      "status = solve(myModel) # solves the model  \n",
      "\n",
      "println(\"Objective value: \", getObjectiveValue(myModel)) # getObjectiveValue(model_name) gives the optimum objective value\n",
      "println(\"x = \", getValue(x)) # getValue(decision_variable) will give the optimum value of the associated decision variable\n",
      "println(\"y = \", getValue(y))"
     ],
     "language": "python",
     "metadata": {},
     "outputs": [
      {
       "output_type": "stream",
       "stream": "stdout",
       "text": [
        "The optimization problem to be solved is:"
       ]
      },
      {
       "output_type": "stream",
       "stream": "stdout",
       "text": [
        "\n",
        "Min x + y\n",
        "Subject to\n",
        " x + y <= 1\n",
        " x >= 0\n",
        " y >= 0\n"
       ]
      },
      {
       "output_type": "stream",
       "stream": "stdout",
       "text": [
        "Objective value: "
       ]
      },
      {
       "output_type": "stream",
       "stream": "stdout",
       "text": [
        "0.0\n",
        "x = 0.0\n",
        "y = 0.0\n"
       ]
      }
     ],
     "prompt_number": 3
    },
    {
     "cell_type": "markdown",
     "metadata": {},
     "source": [
      "This was certainly not the most exciting optimization problem to solve. This was for test purpose only. However, before going into the structure of a JuMP model, let us learn how to represent vectors in Julia.\n",
      " \n",
      "# Representing vectors in Julia\n",
      " \n",
      " * A column vector, $y=(y_1, y_2, \\ldots, y_n)= \\begin{pmatrix}\n",
      "  y_1 \\\\\n",
      "   y_2 \\\\\n",
      "   . \\\\\n",
      "   . \\\\\n",
      "   y_n\n",
      " \\end{pmatrix} \\in \\mathbb{R}^n$ will be written in Julia as `[y[1];y[2];...;y[n]]`. \n",
      " \n",
      " For example to create column vector $\\begin{pmatrix}\n",
      "  3 \\\\\n",
      "   2.4 \\\\\n",
      "   9.1 \\\\\n",
      " \\end{pmatrix}$  use: `[3; 2.4; 9.1]`.\n"
     ]
    },
    {
     "cell_type": "code",
     "collapsed": false,
     "input": [
      "[3; 2.4; 9.1] # Column vector"
     ],
     "language": "python",
     "metadata": {},
     "outputs": [
      {
       "metadata": {},
       "output_type": "pyout",
       "prompt_number": 19,
       "text": [
        "3-element Array{Float64,1}:\n",
        " 3.0\n",
        " 2.4\n",
        " 9.1"
       ]
      }
     ],
     "prompt_number": 19
    },
    {
     "cell_type": "markdown",
     "metadata": {},
     "source": [
      "* A row vector, $z=(z_1 \\; z_2 \\; \\ldots \\; z_n) \\in \\mathbb{R}^{1 \\times n}$ will be written in Julia as `[z[1] y[2]...z[n]]`. \n",
      " \n",
      " For example to create row vector $(1.2 \\; 3.5 \\; 8.21)$  use: `[1.2 3.5 8.21]`.\n",
      " "
     ]
    },
    {
     "cell_type": "code",
     "collapsed": false,
     "input": [
      "[1.2 3.5 8.21] # Row vector"
     ],
     "language": "python",
     "metadata": {},
     "outputs": [
      {
       "metadata": {},
       "output_type": "pyout",
       "prompt_number": 11,
       "text": [
        "1x3 Array{Float64,2}:\n",
        " 1.2  3.5  8.21"
       ]
      }
     ],
     "prompt_number": 11
    },
    {
     "cell_type": "markdown",
     "metadata": {},
     "source": [
      "* To create a $m \\times n$ matrix $A = \\begin{pmatrix}\n",
      "  A_{11} & A_{12} & A_{13} & \\ldots &A_{1n} \\\\\n",
      "  \\ldots & \\ldots & \\ldots & \\ldots & \\ldots  \\\\\n",
      "  A_{m1} & A_{m2} & A_{m3} & \\ldots & A_{mn}\n",
      " \\end{pmatrix}$ write:\n",
      " \n",
      " `[A[1,1] A[1,2] A[1,3]... A[1,n];`\n",
      " ` ... ; `\n",
      "  `A[m,1] A[m,2] ... A[m,n]]`.\n",
      "  \n",
      "  So the matrix $A = \\begin{pmatrix}\n",
      "  1 & 1 & 9 & 5 \\\\\n",
      "  3 & 5 & 0 & 8 \\\\\n",
      "  2 & 0 & 6 & 13\n",
      " \\end{pmatrix}$ is represented in Julia as: \n",
      " \n",
      "  `A= [\n",
      "     1 1 9 5;\n",
      "     3 5 0 8;\n",
      "     2 0 6 13\n",
      "    ]`"
     ]
    },
    {
     "cell_type": "code",
     "collapsed": false,
     "input": [
      "# Generating a matrix\n",
      "A= [\n",
      "     1 1 9 5;\n",
      "     3 5 0 8;\n",
      "     2 0 6 13\n",
      "    ]"
     ],
     "language": "python",
     "metadata": {},
     "outputs": [
      {
       "metadata": {},
       "output_type": "pyout",
       "prompt_number": 12,
       "text": [
        "3x4 Array{Int64,2}:\n",
        " 1  1  9   5\n",
        " 3  5  0   8\n",
        " 2  0  6  13"
       ]
      }
     ],
     "prompt_number": 12
    },
    {
     "cell_type": "markdown",
     "metadata": {},
     "source": [
      "  $A_{ij}$ can be accessed by `A[i,j]` ,the $i$th row of the matrix A is represented by `A[i,:]`, the $j$th column of the matrix A is represented by `A[:,j]`. \n",
      "  \n",
      "  The size of a matrix $A$ can be determined by running the command `size(A)`. If we write `numRows, numCols = size(A)`, then `numRows` and `numCols` will contain the total number of rows and columns of A respectively."
     ]
    },
    {
     "cell_type": "code",
     "collapsed": false,
     "input": [
      "numRows, numCols = size(A)\n",
      "println(\n",
      "\"A has \", numRows, \" rows and \", numCols, \" columns \\n\",\n",
      "\"A[3,3] is \", A[3,3], \"\\n\",\n",
      "\"The 3rd column of A is \", A[:,3], \"\\n\",\n",
      "\"The 2nd row of A is \", A[2,:]\n",
      ")\n"
     ],
     "language": "python",
     "metadata": {},
     "outputs": [
      {
       "output_type": "stream",
       "stream": "stdout",
       "text": [
        "A has "
       ]
      },
      {
       "output_type": "stream",
       "stream": "stdout",
       "text": [
        "3 rows and 4 columns \n",
        "A[3,3] is 6\n",
        "The 3rd column of A is [9,0,6]\n",
        "The 2nd row of A is "
       ]
      },
      {
       "output_type": "stream",
       "stream": "stdout",
       "text": [
        "[3 5 0 8]\n"
       ]
      }
     ],
     "prompt_number": 13
    },
    {
     "cell_type": "markdown",
     "metadata": {},
     "source": [
      "Suppose $x,y \\in \\mathbb{R}^n$. Then $x^T y =\\sum_{i=1}^{n} {x_i y_i}$ is written as `dot(x,y)`. "
     ]
    },
    {
     "cell_type": "code",
     "collapsed": false,
     "input": [
      "y=[1; 2; 3; 4]\n",
      "x=[5; 6; 7; 8]\n",
      "xTy=dot(x,y)"
     ],
     "language": "python",
     "metadata": {},
     "outputs": [
      {
       "metadata": {},
       "output_type": "pyout",
       "prompt_number": 14,
       "text": [
        "70"
       ]
      }
     ],
     "prompt_number": 14
    },
    {
     "cell_type": "markdown",
     "metadata": {},
     "source": [
      "# Structure of a JuMP model\n",
      "\n",
      "Any JuMP model that describes an optimization problem must have four parts: \n",
      "\n",
      "- **Model Object**, \n",
      "- **Variables**, \n",
      "- **Objective**, \n",
      "- **Constraints**.\n",
      "\n",
      "## Model\n",
      "\n",
      "Any instance of an optimization problem corresponds to a model object. This model object is associated with all the variables, constraints and objective of the instance. It is constructed using `modelName = Model(solver=`*solver of our preference*`)`. If no solver is specified, then `ClpSolver()` and/or `CbcSolver()` will be used by default. Here `modelName` is any valid name. We will limit ourselves in the open source solvers such as:\n",
      "\n",
      "* Linear Programming Solver: `ClpSolver(), GLPKSolverLP()`\n",
      "* Mixed Integer Programming Solver: `GLPKSolverMIP() CbcSolver()`\n"
     ]
    },
    {
     "cell_type": "code",
     "collapsed": false,
     "input": [
      "using JuMP\n",
      "myModel = Model() # ClpSolver() and/or CbcSolver() will be used based on the problem"
     ],
     "language": "python",
     "metadata": {},
     "outputs": [
      {
       "latex": [
        "$$ \\begin{alignat*}{1}\\min\\quad & 0\\\\\n",
        "\\text{Subject to} \\quad\\end{alignat*}\n",
        " $$"
       ],
       "metadata": {},
       "output_type": "pyout",
       "prompt_number": 2,
       "text": [
        "Feasibility problem with:\n",
        " * 0 linear constraints\n",
        " * 0 variables\n",
        "Solver set to Default"
       ]
      }
     ],
     "prompt_number": 2
    },
    {
     "cell_type": "markdown",
     "metadata": {},
     "source": [
      "\n",
      "##Variables\n",
      "Variables are defined using `@defVar` macro, which takes upto three input arguments. The *first* arguement is the name of the model. Then the *second* argument contains the name of the variable, and a bound on the variable if it exists. The *third* argument is not needed if the variable is real. When the variable is binary or integer, then `Bin` or `Int`, respectively, is used in place of the third argument.\n",
      "\n",
      "<img src=\"http://scg.utoronto.ca/~shuvomoy.dasgupta/Miscellaneous/JuMPTutorial/variables.png\">\n",
      "\n",
      "###Examples of Variables\n",
      "Suppose the model object is `myModel`. "
     ]
    },
    {
     "cell_type": "markdown",
     "metadata": {},
     "source": [
      "- To describe a variable $z \\in \\mathbb{R}$ such that $0 \\leq z \\leq 10$\n",
      "write"
     ]
    },
    {
     "cell_type": "code",
     "collapsed": false,
     "input": [
      "@defVar(myModel, 0 <= z <= 10)"
     ],
     "language": "python",
     "metadata": {},
     "outputs": [
      {
       "latex": [
        "$$ z $$"
       ],
       "metadata": {},
       "output_type": "pyout",
       "prompt_number": 4,
       "text": [
        "z"
       ]
      }
     ],
     "prompt_number": 4
    },
    {
     "cell_type": "markdown",
     "metadata": {},
     "source": [
      "- Now consider a decision variable $x \\in \\mathbb{R}^n$, and it has a bound $l \\preceq x \\preceq u$, where naturally $l, u \\in \\mathbb{R}^n$.  For that we write <br>\n"
     ]
    },
    {
     "cell_type": "code",
     "collapsed": false,
     "input": [
      "# INPUT DATA, CHANGE THEM TO YOUR REQUIREMENT\n",
      "#-------------------------------------------\n",
      "n = 10\n",
      "l = [1; 2; 3; 4; 5; 6; 7; 8; 9; 10]\n",
      "u = [10; 11; 12; 13; 14; 15; 16; 17; 18; 19]"
     ],
     "language": "python",
     "metadata": {},
     "outputs": [
      {
       "metadata": {},
       "output_type": "pyout",
       "prompt_number": 16,
       "text": [
        "10-element Array{Int64,1}:\n",
        " 10\n",
        " 11\n",
        " 12\n",
        " 13\n",
        " 14\n",
        " 15\n",
        " 16\n",
        " 17\n",
        " 18\n",
        " 19"
       ]
      }
     ],
     "prompt_number": 16
    },
    {
     "cell_type": "code",
     "collapsed": false,
     "input": [
      "# VARIABLE DEFINITION\n",
      "# ------------------- \n",
      "@defVar(myModel, l[i] <= x[i=1:n] <= u [i])"
     ],
     "language": "python",
     "metadata": {},
     "outputs": [
      {
       "latex": [
        "$$ .. \\leq x_{i} \\leq .. \\quad\\forall i \\in \\{1,2,\\dots,9,10\\} $$"
       ],
       "metadata": {},
       "output_type": "pyout",
       "prompt_number": 17,
       "text": [
        ".. <= x[i] <= .. for all i in {1,2..9,10}"
       ]
      }
     ],
     "prompt_number": 17
    },
    {
     "cell_type": "markdown",
     "metadata": {},
     "source": [
      "- Suppose we have decision variables $x \\in \\mathbb{R}^n$, $y \\in \\mathbb{Z}^m$ and $z \\in \\mathbb \\{0,1\\}^p$ such that $x \\succeq 0$, $a \\preceq y \\preceq b$. Here $a, b \\in \\mathbb{Z}^m$. To express this in JuMP we write"
     ]
    },
    {
     "cell_type": "code",
     "collapsed": false,
     "input": [
      "# INPUT DATA, CHANGE THEM TO YOUR REQUIREMENT\n",
      "#-------------------------------------------\n",
      "n = 4 # dimension of x\n",
      "m = 3 # dimension of y\n",
      "p = 2 # dimensin of z\n",
      "a = [0; 1; 2]\n",
      "b = [3; 4; 7]"
     ],
     "language": "python",
     "metadata": {},
     "outputs": [
      {
       "metadata": {},
       "output_type": "pyout",
       "prompt_number": 18,
       "text": [
        "3-element Array{Int64,1}:\n",
        " 3\n",
        " 4\n",
        " 7"
       ]
      }
     ],
     "prompt_number": 18
    },
    {
     "cell_type": "code",
     "collapsed": false,
     "input": [
      "# VARIABLE DEFINITION\n",
      "# -------------------\n",
      "@defVar(myModel, x[i=1:n] >= 0)"
     ],
     "language": "python",
     "metadata": {},
     "outputs": [
      {
       "latex": [
        "$$ x_{i} \\geq 0 \\quad\\forall i \\in \\{1,2,3,4\\} $$"
       ],
       "metadata": {},
       "output_type": "pyout",
       "prompt_number": 19,
       "text": [
        "x[i] >= 0 for all i in {1,2,3,4}"
       ]
      }
     ],
     "prompt_number": 19
    },
    {
     "cell_type": "code",
     "collapsed": false,
     "input": [
      "@defVar(myModel, a[i] <= y[i=1:m] <= b[i], Int)"
     ],
     "language": "python",
     "metadata": {},
     "outputs": [
      {
       "latex": [
        "$$ .. \\leq y_{i} \\leq .., \\in \\mathbb{Z}, \\quad\\forall i \\in \\{1,2,3\\} $$"
       ],
       "metadata": {},
       "output_type": "pyout",
       "prompt_number": 20,
       "text": [
        ".. <= y[i] <= .., integer, for all i in {1,2,3}"
       ]
      }
     ],
     "prompt_number": 20
    },
    {
     "cell_type": "code",
     "collapsed": false,
     "input": [
      "@defVar(myModel, z[i=1:p], Bin)"
     ],
     "language": "python",
     "metadata": {},
     "outputs": [
      {
       "latex": [
        "$$ z_{i} \\in \\{0,1\\} \\quad\\forall i \\in \\{1,2\\} $$"
       ],
       "metadata": {},
       "output_type": "pyout",
       "prompt_number": 21,
       "text": [
        "z[i] in {0,1} for all i in {1,2}"
       ]
      }
     ],
     "prompt_number": 21
    },
    {
     "cell_type": "markdown",
     "metadata": {},
     "source": [
      "## Constraints\n",
      "Constraints are added by using `@addConstraint` macro. The first argument is the model object the constraint is associated with, the second argument is the reference to that constraint and the third argument is the constraint description. The constraint reference comes handy when we want to manipulate the constraint later or access the dual variables associated with it. If no constraint reference is needed, then the second argument is the constraint description. <br>"
     ]
    },
    {
     "cell_type": "markdown",
     "metadata": {},
     "source": [
      "###Examples of Constraints\n",
      "Let's give some examples on writing constraints in JuMP. Suppose the model name is `yourModel`."
     ]
    },
    {
     "cell_type": "code",
     "collapsed": false,
     "input": [
      "yourModel = Model()"
     ],
     "language": "python",
     "metadata": {},
     "outputs": [
      {
       "latex": [
        "$$ \\begin{alignat*}{1}\\min\\quad & 0\\\\\n",
        "\\text{Subject to} \\quad\\end{alignat*}\n",
        " $$"
       ],
       "metadata": {},
       "output_type": "pyout",
       "prompt_number": 5,
       "text": [
        "Feasibility problem with:\n",
        " * 0 linear constraints\n",
        " * 0 variables\n",
        "Solver set to Default"
       ]
      }
     ],
     "prompt_number": 5
    },
    {
     "cell_type": "markdown",
     "metadata": {},
     "source": [
      "1. Consider variables $x, y \\in \\mathbb{R}$ which are coupled by the constraints $5 x +3 y \\leq 5$. We write this as <br>\n",
      "`@addConstraint(yourModel, 5*x + 3*y <= 5)` <br>\n",
      "Naturally, `x` and `y` have to be defined first using `@defVar` macro."
     ]
    },
    {
     "cell_type": "code",
     "collapsed": false,
     "input": [
      "@defVar(yourModel, x)\n",
      "@defVar(yourModel, y)\n",
      "@addConstraint(yourModel, 5*x + 3*y <= 5)"
     ],
     "language": "python",
     "metadata": {},
     "outputs": [
      {
       "latex": [
        "$$ 5 x + 3 y \\leq 5 $$"
       ],
       "metadata": {},
       "output_type": "pyout",
       "prompt_number": 6,
       "text": [
        "5 x + 3 y <= 5"
       ]
      }
     ],
     "prompt_number": 6
    },
    {
     "cell_type": "markdown",
     "metadata": {},
     "source": [
      " Here no constraint reference is given. Now suppose we want to get the dual value of some constraint after solving the problem, then we would need a constraint reference to assign to the constraint first. Let's call the constraint reference as `conRef1` (it could be any valid name). Then the same constraint have to be written as: <br>\n",
      "`@addConstraint(yourModel, conRef1, 6*x + 4*y >= 5)` <br>\n",
      "When we would need the dual value after solving the problem we just write `println(getDual(conRef1))`. <br>"
     ]
    },
    {
     "cell_type": "code",
     "collapsed": false,
     "input": [
      "@addConstraint(yourModel, conRef1, 6*x + 4*y >= 5) "
     ],
     "language": "python",
     "metadata": {},
     "outputs": [
      {
       "latex": [
        "$$ 6 x + 4 y \\geq 5 $$"
       ],
       "metadata": {},
       "output_type": "pyout",
       "prompt_number": 7,
       "text": [
        "6 x + 4 y >= 5"
       ]
      }
     ],
     "prompt_number": 7
    },
    {
     "cell_type": "markdown",
     "metadata": {},
     "source": [
      "2. Consider a variable $x \\in \\mathbb{R}^4$, a coefficient vector $a=(1, -3, 5, -7)$ We want to write a constraint of the form $\\sum_{i=1}^4{a_i x_i} \\leq 3$. In JuMP we write:<br>\n"
     ]
    },
    {
     "cell_type": "code",
     "collapsed": false,
     "input": [
      "a = [1; -3; 5; 7] \n",
      "@defVar(yourModel, w[1:4])\n",
      "@addConstraint(yourModel, sum{a[i]*w[i],i=1:4} <= 3)"
     ],
     "language": "python",
     "metadata": {},
     "outputs": [
      {
       "latex": [
        "$$ w_{1} - 3 w_{2} + 5 w_{3} + 7 w_{4} \\leq 3 $$"
       ],
       "metadata": {},
       "output_type": "pyout",
       "prompt_number": 8,
       "text": [
        "w[1] - 3 w[2] + 5 w[3] + 7 w[4] <= 3"
       ]
      }
     ],
     "prompt_number": 8
    },
    {
     "cell_type": "markdown",
     "metadata": {},
     "source": [
      "##Objective\n",
      "Objective is set using `@setObjective` macro. It has three arguments. The first argument is as usual the model object. The second one is either `Max` if we want to maximize the objective function, or `Min` when we want to minimize. The last argument is the description of the objective which has similar syntax to that of constraint definition.\n",
      "\n",
      "###Example of objective\n",
      "For the previous model, consider the decision variable $w \\in \\mathbb{R}^4$ and cost vector $c = (2, 3 , 4, 5)$. We want to minimize $c^T w$. In JuMP we would write:"
     ]
    },
    {
     "cell_type": "code",
     "collapsed": false,
     "input": [
      "c = [2; 3; 4; 5] \n",
      "@setObjective(yourModel, Min, sum{c[i]*w[i],i=1:4})"
     ],
     "language": "python",
     "metadata": {},
     "outputs": [
      {
       "latex": [
        "$$ 2 w_{1} + 3 w_{2} + 4 w_{3} + 5 w_{4} $$"
       ],
       "metadata": {},
       "output_type": "pyout",
       "prompt_number": 10,
       "text": [
        "2 w[1] + 3 w[2] + 4 w[3] + 5 w[4]"
       ]
      }
     ],
     "prompt_number": 10
    },
    {
     "cell_type": "markdown",
     "metadata": {},
     "source": [
      "##Solving a standard form Linear Programming \n",
      "problem\n",
      "Let us try to write the JuMP code for the following standard form optimization problem:\n",
      "\n",
      "$\n",
      "\\begin{align}\n",
      "& \\text{minimize} && c^T x \\\\\n",
      "& \\text{subject to} && A x = b \\\\\n",
      " &                   && x \\succeq 0 \\\\\n",
      " &                   && x \\in \\mathbb{R}^n\n",
      "\\end{align}\n",
      "$\n",
      "\n",
      "where, $n = 4$, $c=(1, 3, 5, 2)$, $A = \\begin{pmatrix}\n",
      "  1 & 1 & 9 & 5 \\\\\n",
      "  3 & 5 & 0 & 8 \\\\\n",
      "  2 & 0 & 6 & 13\n",
      " \\end{pmatrix}$ and $b=(7, 3, 5)$.\n",
      "\n",
      "### Entering different parts of the code one by one\n",
      "Let us input differnt parts of the JuMP code one by one and see the corresponding outputs to detect if everything is okay. Of course we could input the whole code at once."
     ]
    },
    {
     "cell_type": "code",
     "collapsed": false,
     "input": [
      "using JuMP  # Need to say it whenever we use JuMP\n",
      "\n",
      "using GLPKMathProgInterface # Loading the package for using the GLPK solver\n"
     ],
     "language": "python",
     "metadata": {},
     "outputs": [],
     "prompt_number": 72
    },
    {
     "cell_type": "code",
     "collapsed": false,
     "input": [
      "#MODEL CONSTRUCTION\n",
      "#------------------\n",
      "\n",
      "sfLpModel = Model(solver=GLPKSolverLP()) # Name of the model object"
     ],
     "language": "python",
     "metadata": {},
     "outputs": [
      {
       "latex": [
        "$$ \\begin{alignat*}{1}\\min\\quad & 0\\\\\n",
        "\\text{Subject to} \\quad\\end{alignat*}\n",
        " $$"
       ],
       "metadata": {},
       "output_type": "pyout",
       "prompt_number": 74,
       "text": [
        "Feasibility problem with:\n",
        " * 0 linear constraints\n",
        " * 0 variables\n",
        "Solver set to GLPK"
       ]
      }
     ],
     "prompt_number": 74
    },
    {
     "cell_type": "code",
     "collapsed": false,
     "input": [
      "#INPUT DATA\n",
      "#----------\n",
      "\n",
      "c = [1; 3; 5; 2] \n",
      "\n",
      "A= [\n",
      "     1 1 9 5;\n",
      "     3 5 0 8;\n",
      "     2 0 6 13\n",
      "    ]\n",
      "\n",
      "b = [7; 3; 5] \n",
      "\n",
      "m, n = size (A) # m = number of rows of A, n = number of columns of A"
     ],
     "language": "python",
     "metadata": {},
     "outputs": [
      {
       "metadata": {},
       "output_type": "pyout",
       "prompt_number": 75,
       "text": [
        "(3,4)"
       ]
      }
     ],
     "prompt_number": 75
    },
    {
     "cell_type": "code",
     "collapsed": false,
     "input": [
      "#VARIABLES\n",
      "#---------\n",
      "\n",
      "@defVar(sfLpModel, x[1:n] >= 0) # Models x >=0\n"
     ],
     "language": "python",
     "metadata": {},
     "outputs": [
      {
       "latex": [
        "$$ x_{i} \\geq 0 \\quad\\forall i \\in \\{1,2,3,4\\} $$"
       ],
       "metadata": {},
       "output_type": "pyout",
       "prompt_number": 76,
       "text": [
        "x[i] >= 0 for all i in {1,2,3,4}"
       ]
      }
     ],
     "prompt_number": 76
    },
    {
     "cell_type": "code",
     "collapsed": false,
     "input": [
      "#CONSTRAINTS\n",
      "#-----------\n",
      "\n",
      "for i=1:m # for all rows do the following\n",
      "    @addConstraint(sfLpModel, sum{A[i,j]*x[j] , j=1:n} == b[i]) # the ith row \n",
      "    # of A*x is equal to the ith component of b\n",
      "end # end of the for loop"
     ],
     "language": "python",
     "metadata": {},
     "outputs": [],
     "prompt_number": 77
    },
    {
     "cell_type": "code",
     "collapsed": false,
     "input": [
      "#OBJECTIVE\n",
      "#---------\n",
      "\n",
      "@setObjective(sfLpModel, Min, sum{c[j]*x[j], j=1:n}) # minimize c'x "
     ],
     "language": "python",
     "metadata": {},
     "outputs": [
      {
       "latex": [
        "$$ x_{1} + 3 x_{2} + 5 x_{3} + 2 x_{4} $$"
       ],
       "metadata": {},
       "output_type": "pyout",
       "prompt_number": 78,
       "text": [
        "x[1] + 3 x[2] + 5 x[3] + 2 x[4]"
       ]
      }
     ],
     "prompt_number": 78
    },
    {
     "cell_type": "code",
     "collapsed": false,
     "input": [
      "#THE MODEL IN A HUMAN-READABLE FORMAT\n",
      "#------------------------------------\n",
      "\n",
      "println(\"The optimization problem to be solved is:\")\n",
      "print(sfLpModel) # Shows the model constructed in a human-readable form"
     ],
     "language": "python",
     "metadata": {},
     "outputs": [
      {
       "output_type": "stream",
       "stream": "stdout",
       "text": [
        "The optimization problem to be solved is:"
       ]
      },
      {
       "output_type": "stream",
       "stream": "stdout",
       "text": [
        "\n",
        "Min x[1] + 3 x[2] + 5 x[3] + 2 x[4]\n",
        "Subject to\n",
        " x[1] + x[2] + 9 x[3] + 5 x[4] == 7\n",
        " 3 x[1] + 5 x[2] + 8 x[4] == 3\n",
        " 2 x[1] + 6 x[3] + 13 x[4] == 5\n",
        " x[i] >= 0 for all i in {1,2,3,4}\n"
       ]
      }
     ],
     "prompt_number": 79
    },
    {
     "cell_type": "code",
     "collapsed": false,
     "input": [
      "status = solve(sfLpModel) # solves the model  "
     ],
     "language": "python",
     "metadata": {},
     "outputs": [
      {
       "metadata": {},
       "output_type": "pyout",
       "prompt_number": 80,
       "text": [
        ":Optimal"
       ]
      }
     ],
     "prompt_number": 80
    },
    {
     "cell_type": "code",
     "collapsed": false,
     "input": [
      "#SOLVE IT AND DISPLAY THE RESULTS\n",
      "#--------------------------------\n",
      "\n",
      "println(\"Objective value: \", getObjectiveValue(sfLpModel)) # getObjectiveValue(model_name) gives the optimum objective value\n",
      "\n",
      "println(\"Optimal solution is x = \\n\", getValue(x)) # getValue(decision_variable) will give the optimum value \n",
      "                                                   # of the associated decision variable\n"
     ],
     "language": "python",
     "metadata": {},
     "outputs": [
      {
       "output_type": "stream",
       "stream": "stdout",
       "text": [
        "Objective value: "
       ]
      },
      {
       "output_type": "stream",
       "stream": "stdout",
       "text": [
        "4.923076923076923\n"
       ]
      },
      {
       "output_type": "stream",
       "stream": "stdout",
       "text": [
        "Optimal solution is x = \n"
       ]
      },
      {
       "output_type": "stream",
       "stream": "stdout",
       "text": [
        "[1] = 0.4230769230769228\n",
        "[2] = 0.34615384615384626\n",
        "[3] = 0.6923076923076923\n",
        "[4] = 0.0\n",
        "\n"
       ]
      }
     ],
     "prompt_number": 81
    },
    {
     "cell_type": "markdown",
     "metadata": {},
     "source": [
      "### The whole code"
     ]
    },
    {
     "cell_type": "code",
     "collapsed": false,
     "input": [
      "using JuMP  \n",
      "\n",
      "using GLPKMathProgInterface \n",
      "\n",
      "#MODEL CONSTRUCTION\n",
      "#------------------\n",
      "\n",
      "sfLpModel = Model(solver=GLPKSolverLP())\n",
      "\n",
      "#INPUT DATA\n",
      "#----------\n",
      "\n",
      "c = [1; 3; 5; 2] \n",
      "\n",
      "A= [\n",
      "     1 1 9 5;\n",
      "     3 5 0 8;\n",
      "     2 0 6 13\n",
      "    ]\n",
      "\n",
      "b = [7; 3; 5] \n",
      "\n",
      "m, n = size (A) # m = number of rows of A, n = number of columns of A\n",
      "\n",
      "#VARIABLES\n",
      "#---------\n",
      "\n",
      "@defVar(sfLpModel, x[1:n] >= 0) # Models x >=0\n",
      "\n",
      "#CONSTRAINTS\n",
      "#-----------\n",
      "\n",
      "for i=1:m # for all rows do the following\n",
      "    @addConstraint(sfLpModel, sum{A[i,j]*x[j] , j=1:n} == b[i]) # the ith row \n",
      "    # of A*x is equal to the ith component of b\n",
      "end # end of the for loop\n",
      "\n",
      "#OBJECTIVE\n",
      "#---------\n",
      "\n",
      "@setObjective(sfLpModel, Min, sum{c[j]*x[j], j=1:n}) # minimize c'x \n",
      "\n",
      "\n",
      "\n",
      "#THE MODEL IN A HUMAN-READABLE FORMAT\n",
      "#------------------------------------\n",
      "\n",
      "println(\"The optimization problem to be solved is:\")\n",
      "print(sfLpModel) # Shows the model constructed in a human-readable form\n",
      "\n",
      "@time begin\n",
      "status = solve(sfLpModel) # solves the model  \n",
      "end\n",
      "#SOLVE IT AND DISPLAY THE RESULTS\n",
      "#-------------------------------- \n",
      "\n",
      "println(\"Objective value: \", getObjectiveValue(sfLpModel)) # getObjectiveValue(model_name) gives the optimum objective value\n",
      "\n",
      "println(\"Optimal solution is x = \\n\", getValue(x)) # getValue(decision_variable) will give the optimum value \n",
      "                                                   # of the associated decision variable\n"
     ],
     "language": "python",
     "metadata": {},
     "outputs": [
      {
       "output_type": "stream",
       "stream": "stdout",
       "text": [
        "The optimization problem to be solved is:"
       ]
      },
      {
       "output_type": "stream",
       "stream": "stdout",
       "text": [
        "\n"
       ]
      },
      {
       "output_type": "stream",
       "stream": "stdout",
       "text": [
        "Min x[1] + 3 x[2] + 5 x[3] + 2 x[4]\n",
        "Subject to\n",
        " x[1] + x[2] + 9 x[3] + 5 x[4] == 7\n",
        " 3 x[1] + 5 x[2] + 8 x[4] == 3\n",
        " 2 x[1] + 6 x[3] + 13 x[4] == 5\n",
        " x[i] >= 0 for all i in {1,2,3,4}\n",
        "elapsed time: 0.000363692 seconds (6792 bytes allocated)\n",
        "Objective value: 4.923076923076923\n",
        "Optimal solution is x = \n",
        "x: 1 dimensions:\n",
        "[1] = 0.4230769230769228\n",
        "[2] = 0.34615384615384626\n",
        "[3] = 0.6923076923076923\n",
        "[4] = 0.0\n",
        "\n"
       ]
      }
     ],
     "prompt_number": 5
    },
    {
     "cell_type": "markdown",
     "metadata": {},
     "source": [
      "## Solving a standard form Mixed Integer Programming Problem\n",
      "\n",
      "Let us try to write the JuMP code for the following standard form optimization problem:\n",
      "\n",
      "$\n",
      "\\begin{align}\n",
      "& \\text{minimize} && c^T x + d^T y\\\\\n",
      "& \\text{subject to} && A x + B y= f \\\\\n",
      " &                   && x \\succeq 0, y \\succeq 0 \\\\\n",
      " &                   && x \\in \\mathbb{R}^n, y \\in \\mathbb{Z}^p\n",
      "\\end{align}\n",
      "$\n",
      "\n",
      "Here, $A \\in \\mathbb{R}^{m \\times n}, B \\in \\mathbb{R}^{m \\times p}, c \\in \\mathbb{R}^n, d \\in \\mathbb{R}^p, f \\in \\mathbb{R}^m$. The data were randomly generated."
     ]
    },
    {
     "cell_type": "code",
     "collapsed": false,
     "input": [
      "n = 5\n",
      "p = 4\n",
      "m = 3\n",
      "A=\n",
      "[0.7511 -0.1357   0.7955  -0.4567 0.1356\n",
      "-0.6670 -0.3326   0.1657  -0.5519 -0.9367\n",
      " 1.5894 -0.1302  -0.4313  -0.4875  0.4179]\n",
      "\n",
      "B=\n",
      "[-0.09520 -0.28056 -1.33978 0.6506\n",
      " -0.8581  -0.3518   1.2788  1.5114\n",
      " -0.5925  1.3477    0.1589  0.03495]\n",
      "\n",
      "c=[0.3468,0.8687,0.1200,0.5024,0.2884]\n",
      "\n",
      "d=[0.2017,0.2712,0.4997,0.9238]\n",
      "\n",
      "f = [0.1716,0.3610,0.0705]\n"
     ],
     "language": "python",
     "metadata": {},
     "outputs": [
      {
       "metadata": {},
       "output_type": "pyout",
       "prompt_number": 27,
       "text": [
        "3-element Array{Float64,1}:\n",
        " 0.1716\n",
        " 0.361 \n",
        " 0.0705"
       ]
      }
     ],
     "prompt_number": 27
    },
    {
     "cell_type": "code",
     "collapsed": false,
     "input": [
      "using JuMP\n",
      "using GLPKMathProgInterface\n",
      "\n",
      "sfMipModel = Model(solver = GLPKSolverMIP())\n",
      "\n",
      "@defVar(sfMipModel, x[1:n] >=0)\n",
      "@defVar(sfMipModel, y[1:p] >= 0, Int)\n",
      "\n",
      "@setObjective(sfMipModel, Min, sum{c[i] * x[i], i in 1:n}+sum{d[i]*y[i], i in 1:p})\n",
      "\n",
      "for i in [1:m]\n",
      "    @addConstraint(sfMipModel, sum{A[i,j]*x[j], j in [1:n]}+ sum{B[i,j]*y[j], j in [1:p]} == f[i])\n",
      "end\n",
      "\n",
      "print(sfMipModel, \"\\n\")\n",
      "statusMipModel = solve(sfMipModel)\n",
      "print(\"Status of the problem is \", statusMipModel, \"\\n\")\n",
      "\n",
      "if statusMipModel == :Optimal\n",
      "    print (\"Optimal objective value = \", getObjectiveValue(sfMipModel), \"\\nOptimal x = \", getValue(x), \"\\nOptimal y = \", getValue(y))\n",
      "end"
     ],
     "language": "python",
     "metadata": {},
     "outputs": [
      {
       "output_type": "stream",
       "stream": "stdout",
       "text": [
        "Min 0.3468 x[1] + 0.8687 x[2] + 0.12 x[3] + 0.5024 x[4] + 0.2884 x[5] + 0.2017 y[1] + 0.2712 y[2] + 0.4997 y[3] + 0.9238 y[4]\n",
        "Subject to\n",
        " 0.7511 x[1] - 0.1357 x[2] + 0.7955 x[3] - 0.4567 x[4] + 0.1356 x[5] - 0.0952 y[1] - 0.28056 y[2] - 1.33978 y[3] + 0.6506 y[4] == 0.1716\n",
        " -0.667 x[1] - 0.3326 x[2] + 0.1657 x[3] - 0.5519 x[4] - 0.9367 x[5] - 0.8581 y[1] - 0.3518 y[2] + 1.2788 y[3] + 1.5114 y[4] == 0.361\n",
        " 1.5894 x[1] - 0.1302 x[2] - 0.4313 x[3] - 0.4875 x[4] + 0.4179 x[5] - 0.5925 y[1] + 1.3477 y[2] + 0.1589 y[3] + 0.03495 y[4] == 0.0705\n",
        " x[i] >= 0 for all i in {1,2..4,5}\n",
        " y[i] >= 0, integer, for all i in {1,2,3,4}\n"
       ]
      },
      {
       "output_type": "stream",
       "stream": "stdout",
       "text": [
        "\n"
       ]
      },
      {
       "output_type": "stream",
       "stream": "stdout",
       "text": [
        "Status of the problem is Optimal\n",
        "Optimal objective value = 1.070277955983598\n",
        "Optimal x = "
       ]
      },
      {
       "output_type": "stream",
       "stream": "stdout",
       "text": [
        "x: 1 dimensions:\n",
        "[1] = 0.0654906726037024\n",
        "[2] = 0.0\n",
        "[3] = 1.6298599862096397\n",
        "[4] = 0.0\n",
        "[5] = 1.221506908389311\n",
        "\n",
        "Optimal y = y: 1 dimensions:\n",
        "[1] = 0.0\n",
        "[2] = 0.0\n",
        "[3] = 1.0\n",
        "[4] = 0.0\n"
       ]
      }
     ],
     "prompt_number": 28
    },
    {
     "cell_type": "markdown",
     "metadata": {},
     "source": [
      "# Reference\n",
      "\n",
      "[1] M. Lubin and I. Dunning, \u201cComputing in Operations Research using Julia\u201d, INFORMS Journal on Computing, to appear, 2014. [arXiv:1312.1431](http://arxiv.org/abs/1312.1431)"
     ]
    }
   ],
   "metadata": {}
  }
 ]
}